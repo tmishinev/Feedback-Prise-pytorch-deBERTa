{
 "cells": [
  {
   "cell_type": "code",
   "execution_count": 1,
   "id": "9dc0a1a7",
   "metadata": {
    "execution": {
     "iopub.execute_input": "2022-09-14T20:36:14.499073Z",
     "iopub.status.busy": "2022-09-14T20:36:14.498598Z",
     "iopub.status.idle": "2022-09-14T20:36:47.587248Z",
     "shell.execute_reply": "2022-09-14T20:36:47.586045Z"
    },
    "papermill": {
     "duration": 33.09709,
     "end_time": "2022-09-14T20:36:47.589518",
     "exception": false,
     "start_time": "2022-09-14T20:36:14.492428",
     "status": "completed"
    },
    "tags": []
   },
   "outputs": [
    {
     "name": "stdout",
     "output_type": "stream",
     "text": [
      "Found existing installation: transformers 4.20.1\n",
      "Uninstalling transformers-4.20.1:\n",
      "  Successfully uninstalled transformers-4.20.1\n"
     ]
    },
    {
     "name": "stderr",
     "output_type": "stream",
     "text": [
      "WARNING: Running pip as the 'root' user can result in broken permissions and conflicting behaviour with the system package manager. It is recommended to use a virtual environment instead: https://pip.pypa.io/warnings/venv\n"
     ]
    },
    {
     "name": "stdout",
     "output_type": "stream",
     "text": [
      "Found existing installation: tokenizers 0.12.1\n",
      "Uninstalling tokenizers-0.12.1:\n",
      "  Successfully uninstalled tokenizers-0.12.1\n"
     ]
    },
    {
     "name": "stderr",
     "output_type": "stream",
     "text": [
      "WARNING: Running pip as the 'root' user can result in broken permissions and conflicting behaviour with the system package manager. It is recommended to use a virtual environment instead: https://pip.pypa.io/warnings/venv\n"
     ]
    },
    {
     "name": "stdout",
     "output_type": "stream",
     "text": [
      "Looking in links: ../input/fb3-pip-wheels\n",
      "Processing /kaggle/input/fb3-pip-wheels/transformers-4.21.2-py3-none-any.whl\n",
      "Requirement already satisfied: tqdm>=4.27 in /opt/conda/lib/python3.7/site-packages (from transformers) (4.64.0)\n",
      "Requirement already satisfied: huggingface-hub<1.0,>=0.1.0 in /opt/conda/lib/python3.7/site-packages (from transformers) (0.8.1)\n",
      "Requirement already satisfied: importlib-metadata in /opt/conda/lib/python3.7/site-packages (from transformers) (4.12.0)\n",
      "Requirement already satisfied: numpy>=1.17 in /opt/conda/lib/python3.7/site-packages (from transformers) (1.21.6)\n",
      "Requirement already satisfied: regex!=2019.12.17 in /opt/conda/lib/python3.7/site-packages (from transformers) (2021.11.10)\n",
      "Requirement already satisfied: packaging>=20.0 in /opt/conda/lib/python3.7/site-packages (from transformers) (21.3)\n",
      "Requirement already satisfied: pyyaml>=5.1 in /opt/conda/lib/python3.7/site-packages (from transformers) (6.0)\n",
      "Requirement already satisfied: requests in /opt/conda/lib/python3.7/site-packages (from transformers) (2.28.1)\n",
      "Requirement already satisfied: filelock in /opt/conda/lib/python3.7/site-packages (from transformers) (3.7.1)\n",
      "Processing /kaggle/input/fb3-pip-wheels/tokenizers-0.12.1-cp37-cp37m-manylinux_2_12_x86_64.manylinux2010_x86_64.whl\n",
      "Requirement already satisfied: typing-extensions>=3.7.4.3 in /opt/conda/lib/python3.7/site-packages (from huggingface-hub<1.0,>=0.1.0->transformers) (4.3.0)\n",
      "Requirement already satisfied: pyparsing!=3.0.5,>=2.0.2 in /opt/conda/lib/python3.7/site-packages (from packaging>=20.0->transformers) (3.0.9)\n",
      "Requirement already satisfied: zipp>=0.5 in /opt/conda/lib/python3.7/site-packages (from importlib-metadata->transformers) (3.8.0)\n",
      "Requirement already satisfied: urllib3<1.27,>=1.21.1 in /opt/conda/lib/python3.7/site-packages (from requests->transformers) (1.26.12)\n",
      "Requirement already satisfied: idna<4,>=2.5 in /opt/conda/lib/python3.7/site-packages (from requests->transformers) (3.3)\n",
      "Requirement already satisfied: certifi>=2017.4.17 in /opt/conda/lib/python3.7/site-packages (from requests->transformers) (2022.6.15)\n",
      "Requirement already satisfied: charset-normalizer<3,>=2 in /opt/conda/lib/python3.7/site-packages (from requests->transformers) (2.1.0)\n",
      "Installing collected packages: tokenizers, transformers\n"
     ]
    },
    {
     "name": "stderr",
     "output_type": "stream",
     "text": [
      "ERROR: pip's dependency resolver does not currently take into account all the packages that are installed. This behaviour is the source of the following dependency conflicts.\n",
      "allennlp 2.10.0 requires protobuf==3.20.0, but you have protobuf 3.19.4 which is incompatible.\n",
      "allennlp 2.10.0 requires transformers<4.21,>=4.1, but you have transformers 4.21.2 which is incompatible.\n",
      "WARNING: Running pip as the 'root' user can result in broken permissions and conflicting behaviour with the system package manager. It is recommended to use a virtual environment instead: https://pip.pypa.io/warnings/venv\n"
     ]
    },
    {
     "name": "stdout",
     "output_type": "stream",
     "text": [
      "Successfully installed tokenizers-0.12.1 transformers-4.21.2\n",
      "Looking in links: ../input/fb3-pip-wheels\n",
      "Requirement already satisfied: tokenizers in /opt/conda/lib/python3.7/site-packages (0.12.1)\n"
     ]
    },
    {
     "name": "stderr",
     "output_type": "stream",
     "text": [
      "WARNING: Running pip as the 'root' user can result in broken permissions and conflicting behaviour with the system package manager. It is recommended to use a virtual environment instead: https://pip.pypa.io/warnings/venv\n"
     ]
    },
    {
     "name": "stdout",
     "output_type": "stream",
     "text": [
      "tokenizers.__version__: 0.12.1\n",
      "transformers.__version__: 4.21.2\n",
      "env: TOKENIZERS_PARALLELISM=true\n"
     ]
    }
   ],
   "source": [
    "import os\n",
    "import gc\n",
    "import copy\n",
    "import time\n",
    "import random\n",
    "import string\n",
    "\n",
    "# For data manipulation\n",
    "import numpy as np\n",
    "import pandas as pd\n",
    "\n",
    "# Pytorch Imports\n",
    "import torch\n",
    "import torch.nn as nn\n",
    "import torch.optim as optim\n",
    "from torch.optim import lr_scheduler\n",
    "from torch.utils.data import Dataset, DataLoader\n",
    "\n",
    "# Utils\n",
    "from tqdm import tqdm\n",
    "from collections import defaultdict\n",
    "\n",
    "# Sklearn Imports\n",
    "from sklearn.metrics import mean_squared_error\n",
    "from sklearn.model_selection import StratifiedKFold, KFold\n",
    "#from iterstrat.ml_stratifiers import MultilabelStratifiedKFold\n",
    "\n",
    "# For Transformer Models\n",
    "\n",
    "os.system('pip uninstall -y transformers')\n",
    "os.system('pip uninstall -y tokenizers')\n",
    "os.system('python -m pip install --no-index --find-links=../input/fb3-pip-wheels transformers')\n",
    "os.system('python -m pip install --no-index --find-links=../input/fb3-pip-wheels tokenizers')\n",
    "import tokenizers\n",
    "import transformers\n",
    "print(f\"tokenizers.__version__: {tokenizers.__version__}\")\n",
    "print(f\"transformers.__version__: {transformers.__version__}\")\n",
    "#from transformers import AutoTokenizer, AutoModel, AutoConfig\n",
    "#from transformers import get_linear_schedule_with_warmup, get_cosine_schedule_with_warmup\n",
    "\n",
    "\n",
    "from transformers import AutoTokenizer, AutoModel, AutoConfig, AdamW, get_scheduler, get_linear_schedule_with_warmup, get_constant_schedule_with_warmup\n",
    "import matplotlib.pyplot as plt\n",
    "\n",
    "# Suppress warnings\n",
    "import warnings\n",
    "warnings.filterwarnings(\"ignore\")\n",
    "\n",
    "# For descriptive error messages\n",
    "os.environ['CUDA_LAUNCH_BLOCKING'] = \"1\"\n",
    "\n",
    "%env TOKENIZERS_PARALLELISM=true"
   ]
  },
  {
   "cell_type": "code",
   "execution_count": 2,
   "id": "738d2d70",
   "metadata": {
    "execution": {
     "iopub.execute_input": "2022-09-14T20:36:47.600318Z",
     "iopub.status.busy": "2022-09-14T20:36:47.599237Z",
     "iopub.status.idle": "2022-09-14T20:36:47.802612Z",
     "shell.execute_reply": "2022-09-14T20:36:47.801632Z"
    },
    "papermill": {
     "duration": 0.211345,
     "end_time": "2022-09-14T20:36:47.805362",
     "exception": false,
     "start_time": "2022-09-14T20:36:47.594017",
     "status": "completed"
    },
    "tags": []
   },
   "outputs": [],
   "source": [
    "df = pd.read_csv('../input/feedback-prize-english-language-learning/train.csv')\n",
    "y = df[['cohesion', 'syntax', 'vocabulary', 'phraseology', 'grammar', 'conventions']]"
   ]
  },
  {
   "cell_type": "code",
   "execution_count": 3,
   "id": "192342b3",
   "metadata": {
    "execution": {
     "iopub.execute_input": "2022-09-14T20:36:47.815512Z",
     "iopub.status.busy": "2022-09-14T20:36:47.815221Z",
     "iopub.status.idle": "2022-09-14T20:36:47.891316Z",
     "shell.execute_reply": "2022-09-14T20:36:47.890440Z"
    },
    "papermill": {
     "duration": 0.083394,
     "end_time": "2022-09-14T20:36:47.893257",
     "exception": false,
     "start_time": "2022-09-14T20:36:47.809863",
     "status": "completed"
    },
    "tags": []
   },
   "outputs": [],
   "source": [
    "CONFIG = {\"seed\": 2021,\n",
    "          \"epochs\": 5,\n",
    "          \"model_name\": \"microsoft/deberta-v3-base\",\n",
    "          \"train_batch_size\": 8,\n",
    "          \"valid_batch_size\": 8,\n",
    "          \"max_length\": 512,\n",
    "          \"learning_rate\": 1e-5,\n",
    "          \"scheduler\": 'CosineAnnealingLR',\n",
    "          \"gradient_checkpointing\" : True,\n",
    "          \"min_lr\": 1e-6,\n",
    "          \"T_max\": 500,\n",
    "          \"weight_decay\": 1e-6,\n",
    "          \"n_fold\": 5,\n",
    "          \"n_accumulate\": 1,\n",
    "          \"num_classes\": 1,\n",
    "          \"margin\": 0.5,\n",
    "          \"device\": torch.device(\"cuda:0\" if torch.cuda.is_available() else \"cpu\"),\n",
    "          \"apex\": True\n",
    "\n",
    "          }\n",
    "\n",
    "\n",
    "\n",
    "#set notebook SEED\n",
    "def set_seed(seed=42):\n",
    "    '''Sets the seed of the entire notebook so results are the same every time we run.\n",
    "    This is for REPRODUCIBILITY.'''\n",
    "    np.random.seed(seed)\n",
    "    torch.manual_seed(seed)\n",
    "    torch.cuda.manual_seed(seed)\n",
    "    # When running on the CuDNN backend, two further options must be set\n",
    "    torch.backends.cudnn.deterministic = True\n",
    "    torch.backends.cudnn.benchmark = False\n",
    "    # Set a fixed value for the hash seed\n",
    "    os.environ['PYTHONHASHSEED'] = str(seed)\n",
    "    \n",
    "set_seed(CONFIG['seed'])"
   ]
  },
  {
   "cell_type": "code",
   "execution_count": 4,
   "id": "61a2dbe4",
   "metadata": {
    "execution": {
     "iopub.execute_input": "2022-09-14T20:36:47.903309Z",
     "iopub.status.busy": "2022-09-14T20:36:47.903007Z",
     "iopub.status.idle": "2022-09-14T20:36:52.229085Z",
     "shell.execute_reply": "2022-09-14T20:36:52.228173Z"
    },
    "papermill": {
     "duration": 4.333541,
     "end_time": "2022-09-14T20:36:52.231319",
     "exception": false,
     "start_time": "2022-09-14T20:36:47.897778",
     "status": "completed"
    },
    "tags": []
   },
   "outputs": [
    {
     "data": {
      "application/vnd.jupyter.widget-view+json": {
       "model_id": "ad5a42196c694880a5dc399bf5b1484c",
       "version_major": 2,
       "version_minor": 0
      },
      "text/plain": [
       "Downloading tokenizer_config.json:   0%|          | 0.00/52.0 [00:00<?, ?B/s]"
      ]
     },
     "metadata": {},
     "output_type": "display_data"
    },
    {
     "data": {
      "application/vnd.jupyter.widget-view+json": {
       "model_id": "e5564fe30e3448fe92557f450b7d73ae",
       "version_major": 2,
       "version_minor": 0
      },
      "text/plain": [
       "Downloading config.json:   0%|          | 0.00/579 [00:00<?, ?B/s]"
      ]
     },
     "metadata": {},
     "output_type": "display_data"
    },
    {
     "data": {
      "application/vnd.jupyter.widget-view+json": {
       "model_id": "39ee054a8d1744c6ab57e137ae6078d8",
       "version_major": 2,
       "version_minor": 0
      },
      "text/plain": [
       "Downloading spm.model:   0%|          | 0.00/2.35M [00:00<?, ?B/s]"
      ]
     },
     "metadata": {},
     "output_type": "display_data"
    },
    {
     "name": "stderr",
     "output_type": "stream",
     "text": [
      "Special tokens have been added in the vocabulary, make sure the associated word embeddings are fine-tuned or trained.\n",
      "Special tokens have been added in the vocabulary, make sure the associated word embeddings are fine-tuned or trained.\n"
     ]
    },
    {
     "data": {
      "text/plain": [
       "('./tokenizer/tokenizer_config.json',\n",
       " './tokenizer/special_tokens_map.json',\n",
       " './tokenizer/spm.model',\n",
       " './tokenizer/added_tokens.json',\n",
       " './tokenizer/tokenizer.json')"
      ]
     },
     "execution_count": 4,
     "metadata": {},
     "output_type": "execute_result"
    }
   ],
   "source": [
    "# ----- TOKENIZER -----\n",
    "special_tokens_list = []\n",
    "special_tokens_list.append('[BR]')\n",
    "CONFIG[\"tokenizer\"] = AutoTokenizer.from_pretrained(CONFIG['model_name'])\n",
    "CONFIG[\"tokenizer\"].save_pretrained('./tokenizer/')"
   ]
  },
  {
   "cell_type": "code",
   "execution_count": 5,
   "id": "4d0fe567",
   "metadata": {
    "execution": {
     "iopub.execute_input": "2022-09-14T20:36:52.243496Z",
     "iopub.status.busy": "2022-09-14T20:36:52.242710Z",
     "iopub.status.idle": "2022-09-14T20:36:52.271688Z",
     "shell.execute_reply": "2022-09-14T20:36:52.270560Z"
    },
    "papermill": {
     "duration": 0.037641,
     "end_time": "2022-09-14T20:36:52.274180",
     "exception": false,
     "start_time": "2022-09-14T20:36:52.236539",
     "status": "completed"
    },
    "tags": []
   },
   "outputs": [
    {
     "data": {
      "text/html": [
       "<div>\n",
       "<style scoped>\n",
       "    .dataframe tbody tr th:only-of-type {\n",
       "        vertical-align: middle;\n",
       "    }\n",
       "\n",
       "    .dataframe tbody tr th {\n",
       "        vertical-align: top;\n",
       "    }\n",
       "\n",
       "    .dataframe thead th {\n",
       "        text-align: right;\n",
       "    }\n",
       "</style>\n",
       "<table border=\"1\" class=\"dataframe\">\n",
       "  <thead>\n",
       "    <tr style=\"text-align: right;\">\n",
       "      <th></th>\n",
       "      <th>text_id</th>\n",
       "      <th>full_text</th>\n",
       "      <th>cohesion</th>\n",
       "      <th>syntax</th>\n",
       "      <th>vocabulary</th>\n",
       "      <th>phraseology</th>\n",
       "      <th>grammar</th>\n",
       "      <th>conventions</th>\n",
       "      <th>kfold</th>\n",
       "    </tr>\n",
       "  </thead>\n",
       "  <tbody>\n",
       "    <tr>\n",
       "      <th>0</th>\n",
       "      <td>0016926B079C</td>\n",
       "      <td>I think that students would benefit from learn...</td>\n",
       "      <td>3.5</td>\n",
       "      <td>3.5</td>\n",
       "      <td>3.0</td>\n",
       "      <td>3.0</td>\n",
       "      <td>4.0</td>\n",
       "      <td>3.0</td>\n",
       "      <td>3</td>\n",
       "    </tr>\n",
       "    <tr>\n",
       "      <th>1</th>\n",
       "      <td>0022683E9EA5</td>\n",
       "      <td>When a problem is a change you have to let it ...</td>\n",
       "      <td>2.5</td>\n",
       "      <td>2.5</td>\n",
       "      <td>3.0</td>\n",
       "      <td>2.0</td>\n",
       "      <td>2.0</td>\n",
       "      <td>2.5</td>\n",
       "      <td>0</td>\n",
       "    </tr>\n",
       "    <tr>\n",
       "      <th>2</th>\n",
       "      <td>00299B378633</td>\n",
       "      <td>Dear, Principal\\n\\nIf u change the school poli...</td>\n",
       "      <td>3.0</td>\n",
       "      <td>3.5</td>\n",
       "      <td>3.0</td>\n",
       "      <td>3.0</td>\n",
       "      <td>3.0</td>\n",
       "      <td>2.5</td>\n",
       "      <td>3</td>\n",
       "    </tr>\n",
       "    <tr>\n",
       "      <th>3</th>\n",
       "      <td>003885A45F42</td>\n",
       "      <td>The best time in life is when you become yours...</td>\n",
       "      <td>4.5</td>\n",
       "      <td>4.5</td>\n",
       "      <td>4.5</td>\n",
       "      <td>4.5</td>\n",
       "      <td>4.0</td>\n",
       "      <td>5.0</td>\n",
       "      <td>3</td>\n",
       "    </tr>\n",
       "    <tr>\n",
       "      <th>4</th>\n",
       "      <td>0049B1DF5CCC</td>\n",
       "      <td>Small act of kindness can impact in other peop...</td>\n",
       "      <td>2.5</td>\n",
       "      <td>3.0</td>\n",
       "      <td>3.0</td>\n",
       "      <td>3.0</td>\n",
       "      <td>2.5</td>\n",
       "      <td>2.5</td>\n",
       "      <td>3</td>\n",
       "    </tr>\n",
       "  </tbody>\n",
       "</table>\n",
       "</div>"
      ],
      "text/plain": [
       "        text_id                                          full_text  cohesion  \\\n",
       "0  0016926B079C  I think that students would benefit from learn...       3.5   \n",
       "1  0022683E9EA5  When a problem is a change you have to let it ...       2.5   \n",
       "2  00299B378633  Dear, Principal\\n\\nIf u change the school poli...       3.0   \n",
       "3  003885A45F42  The best time in life is when you become yours...       4.5   \n",
       "4  0049B1DF5CCC  Small act of kindness can impact in other peop...       2.5   \n",
       "\n",
       "   syntax  vocabulary  phraseology  grammar  conventions  kfold  \n",
       "0     3.5         3.0          3.0      4.0          3.0      3  \n",
       "1     2.5         3.0          2.0      2.0          2.5      0  \n",
       "2     3.5         3.0          3.0      3.0          2.5      3  \n",
       "3     4.5         4.5          4.5      4.0          5.0      3  \n",
       "4     3.0         3.0          3.0      2.5          2.5      3  "
      ]
     },
     "execution_count": 5,
     "metadata": {},
     "output_type": "execute_result"
    }
   ],
   "source": [
    "skf = KFold(n_splits=CONFIG['n_fold'], shuffle=True, random_state=CONFIG['seed'])\n",
    "\n",
    "for fold, ( _, val_) in enumerate(skf.split(X=df, y=y)):\n",
    "    df.loc[val_ , \"kfold\"] = int(fold)\n",
    "    \n",
    "df[\"kfold\"] = df[\"kfold\"].astype(int)\n",
    "df.head()"
   ]
  },
  {
   "cell_type": "code",
   "execution_count": 6,
   "id": "e1645e21",
   "metadata": {
    "execution": {
     "iopub.execute_input": "2022-09-14T20:36:52.286210Z",
     "iopub.status.busy": "2022-09-14T20:36:52.285920Z",
     "iopub.status.idle": "2022-09-14T20:36:52.535079Z",
     "shell.execute_reply": "2022-09-14T20:36:52.534182Z"
    },
    "papermill": {
     "duration": 0.257439,
     "end_time": "2022-09-14T20:36:52.537076",
     "exception": false,
     "start_time": "2022-09-14T20:36:52.279637",
     "status": "completed"
    },
    "tags": []
   },
   "outputs": [
    {
     "data": {
      "image/png": "[encoded data removed]",
      "text/plain": [
       "<Figure size 432x288 with 1 Axes>"
      ]
     },
     "metadata": {
      "needs_background": "light"
     },
     "output_type": "display_data"
    }
   ],
   "source": [
    "#get Kfold score distribution\n",
    "for fold in df[\"kfold\"].unique():\n",
    "  #fig = plt.figure()\n",
    "  df[df[\"kfold\"] == fold]['conventions'].hist(bins = 30,  histtype=u'step')\n",
    "  #print(df[df[\"kfold\"] == fold]['y'].value_counts())"
   ]
  },
  {
   "cell_type": "code",
   "execution_count": 7,
   "id": "c56330a5",
   "metadata": {
    "execution": {
     "iopub.execute_input": "2022-09-14T20:36:52.549206Z",
     "iopub.status.busy": "2022-09-14T20:36:52.548917Z",
     "iopub.status.idle": "2022-09-14T20:36:52.567262Z",
     "shell.execute_reply": "2022-09-14T20:36:52.566423Z"
    },
    "papermill": {
     "duration": 0.026682,
     "end_time": "2022-09-14T20:36:52.569214",
     "exception": false,
     "start_time": "2022-09-14T20:36:52.542532",
     "status": "completed"
    },
    "tags": []
   },
   "outputs": [],
   "source": [
    "class MeanPooling(nn.Module):\n",
    "    def __init__(self):\n",
    "        super(MeanPooling, self).__init__()\n",
    "        \n",
    "    def forward(self, last_hidden_state, attention_mask):\n",
    "        input_mask_expanded = attention_mask.unsqueeze(-1).expand(last_hidden_state.size()).float()\n",
    "        sum_embeddings = torch.sum(last_hidden_state * input_mask_expanded, 1)\n",
    "        sum_mask = input_mask_expanded.sum(1)\n",
    "        sum_mask = torch.clamp(sum_mask, min=1e-9)\n",
    "        mean_embeddings = sum_embeddings / sum_mask\n",
    "        return mean_embeddings\n",
    "\n",
    "\n",
    "#extend Dataset class\n",
    "class FPDataset(torch.utils.data.Dataset):\n",
    "   \n",
    "    def __init__(self, texts, targets, tokenizer, seq_len=CONFIG['max_length']):        \n",
    "        self.texts = texts\n",
    "        self.targets = targets\n",
    "        self.tokenizer = tokenizer\n",
    "        self.seq_len = seq_len\n",
    "    \n",
    "    def __len__(self):\n",
    "        \"\"\"Returns the length of dataset.\"\"\"\n",
    "        return len(self.texts)\n",
    "    \n",
    "    def __getitem__(self, idx):\n",
    "        text = str(self.texts[idx])         \n",
    "        tokenized = self.tokenizer(\n",
    "            text,            \n",
    "            max_length = self.seq_len,                                \n",
    "            padding = \"max_length\",     # Pad to the specified max_length. \n",
    "            truncation = True,          # Truncate to the specified max_length. \n",
    "            add_special_tokens = True,  # Whether to insert [CLS], [SEP], <s>, etc.   \n",
    "            return_attention_mask = True            \n",
    "        )         \n",
    "        return {\"ids\": torch.tensor(tokenized[\"input_ids\"], dtype=torch.long),\n",
    "                \"masks\": torch.tensor(tokenized[\"attention_mask\"], dtype=torch.long),\n",
    "                \"target\": torch.tensor(self.targets[idx], dtype=torch.float)\n",
    "               }\n",
    "    \n",
    "class FPModel(nn.Module):\n",
    "    def __init__(self, cfg, config_path=None, pretrained=False):\n",
    "        super().__init__()\n",
    "        self.cfg = cfg\n",
    "        if config_path is None:\n",
    "            self.config = AutoConfig.from_pretrained(cfg['model_name'], output_hidden_states=True)\n",
    "            self.config.hidden_dropout = 0.\n",
    "            self.config.hidden_dropout_prob = 0.\n",
    "            self.config.attention_dropout = 0.\n",
    "            self.config.attention_probs_dropout_prob = 0.\n",
    "        else:\n",
    "            self.config = torch.load(config_path)\n",
    "            \n",
    "        if pretrained:\n",
    "            self.model = AutoModel.from_pretrained(cfg['model_name'], config=self.config)\n",
    "        else:\n",
    "            self.model = AutoModel(self.config)\n",
    "        if self.cfg['gradient_checkpointing']:\n",
    "            self.model.gradient_checkpointing_enable()\n",
    "            \n",
    "        self.pool = MeanPooling()\n",
    "        self.fc = nn.Linear(self.config.hidden_size, 6)\n",
    "        self._init_weights(self.fc)\n",
    "        \n",
    "    def _init_weights(self, module):\n",
    "        if isinstance(module, nn.Linear):\n",
    "            module.weight.data.normal_(mean=0.0, std=self.config.initializer_range)\n",
    "            if module.bias is not None:\n",
    "                module.bias.data.zero_()\n",
    "        elif isinstance(module, nn.Embedding):\n",
    "            module.weight.data.normal_(mean=0.0, std=self.config.initializer_range)\n",
    "            if module.padding_idx is not None:\n",
    "                module.weight.data[module.padding_idx].zero_()\n",
    "        elif isinstance(module, nn.LayerNorm):\n",
    "            module.bias.data.zero_()\n",
    "            module.weight.data.fill_(1.0)\n",
    "        \n",
    "        \n",
    "    def feature(self, input_ids, attention_mask):\n",
    "        outputs = self.model(input_ids, attention_mask)\n",
    "        last_hidden_states = outputs[0]\n",
    "        feature = self.pool(last_hidden_states, attention_mask)\n",
    "        return feature\n",
    "\n",
    "    def forward(self, input_ids, attention_mask):\n",
    "        feature = self.feature(input_ids, attention_mask)\n",
    "        output = self.fc(feature)\n",
    "        return output\n",
    "    \n",
    "def loss_fn(predictions, targets):\n",
    "    return torch.sqrt(nn.MSELoss()(predictions, targets))\n"
   ]
  },
  {
   "cell_type": "code",
   "execution_count": 8,
   "id": "761ada61",
   "metadata": {
    "execution": {
     "iopub.execute_input": "2022-09-14T20:36:52.581371Z",
     "iopub.status.busy": "2022-09-14T20:36:52.580083Z",
     "iopub.status.idle": "2022-09-14T20:36:52.590784Z",
     "shell.execute_reply": "2022-09-14T20:36:52.589963Z"
    },
    "papermill": {
     "duration": 0.018482,
     "end_time": "2022-09-14T20:36:52.592789",
     "exception": false,
     "start_time": "2022-09-14T20:36:52.574307",
     "status": "completed"
    },
    "tags": []
   },
   "outputs": [],
   "source": [
    "def train_fn(data_loader, model, optimizer, device, scheduler):    \n",
    "    \n",
    "    model.train()                                # Put the model in training mode.              \n",
    "    dataset_size = 0\n",
    "    running_loss = 0.0\n",
    "    \n",
    "    scaler = torch.cuda.amp.GradScaler(enabled=CONFIG['apex'])\n",
    "\n",
    "    lr_list = []\n",
    "    train_losses = []         \n",
    "    \n",
    "    bar = tqdm(enumerate(data_loader), total=len(data_loader))\n",
    "\n",
    "    for step, batch in bar:\n",
    "        \n",
    "        ids = batch[\"ids\"].to(device, dtype=torch.long)\n",
    "        masks = batch[\"masks\"].to(device, dtype=torch.long)\n",
    "        targets = batch[\"target\"].to(device, dtype=torch.float)               \n",
    "\n",
    "        with torch.cuda.amp.autocast(enabled=CONFIG['apex']):\n",
    "            outputs = model(ids, masks).squeeze()  # Predictions from 1 batch of data.\n",
    "            loss = loss_fn(outputs, targets)   #calcualte loss\n",
    "\n",
    "        if CONFIG['n_accumulate'] > 1:\n",
    "            loss = loss / CONFIG['n_accumulate']\n",
    "            \n",
    "        train_losses.append(loss.item())\n",
    "        \n",
    "        scaler.scale(loss).backward() #calculate gradients\n",
    "    \n",
    "        if (step + 1) % CONFIG['n_accumulate'] == 0:\n",
    "            \n",
    "            #step optimizer\n",
    "            scaler.step(optimizer)\n",
    "            scaler.update()\n",
    "            \n",
    "            lr_list.append(optimizer.param_groups[0][\"lr\"])\n",
    "            \n",
    "            optimizer.zero_grad() # zero the parameter gradients\n",
    "\n",
    "            if scheduler is not None:\n",
    "                scheduler.step()\n",
    "\n",
    "        #get progress bar\n",
    "        batch_size = ids.size(0)\n",
    "        running_loss += (loss.item() * batch_size)\n",
    "        dataset_size += batch_size\n",
    "        \n",
    "        epoch_loss = running_loss / dataset_size\n",
    "        \n",
    "        bar.set_postfix(Train_Loss=epoch_loss,\n",
    "                        LR=optimizer.param_groups[0]['lr'])\n",
    "    gc.collect()\n",
    "        \n",
    "    return train_losses, lr_list"
   ]
  },
  {
   "cell_type": "code",
   "execution_count": 9,
   "id": "b93e841c",
   "metadata": {
    "execution": {
     "iopub.execute_input": "2022-09-14T20:36:52.604322Z",
     "iopub.status.busy": "2022-09-14T20:36:52.603835Z",
     "iopub.status.idle": "2022-09-14T20:36:52.611749Z",
     "shell.execute_reply": "2022-09-14T20:36:52.610810Z"
    },
    "papermill": {
     "duration": 0.015749,
     "end_time": "2022-09-14T20:36:52.613682",
     "exception": false,
     "start_time": "2022-09-14T20:36:52.597933",
     "status": "completed"
    },
    "tags": []
   },
   "outputs": [],
   "source": [
    "@torch.no_grad()\n",
    "def validate_fn(data_loader, model, device):\n",
    "        \n",
    "    model.eval()                                    # Put model in evaluation mode.\n",
    "    dataset_size = 0\n",
    "    running_loss = 0.0\n",
    "\n",
    "    val_losses = []\n",
    "        \n",
    "    with torch.no_grad():                           # Disable gradient calculation.\n",
    "        \n",
    "        bar = tqdm(enumerate(data_loader), total=len(data_loader))\n",
    "\n",
    "        for step, batch in bar:                  # Loop over all batches.\n",
    "            \n",
    "            ids = batch[\"ids\"].to(device, dtype=torch.long)\n",
    "            masks = batch[\"masks\"].to(device, dtype=torch.long)\n",
    "            targets = batch[\"target\"].to(device, dtype=torch.float)\n",
    "\n",
    "            outputs = model(ids, masks).squeeze() # Predictions from 1 batch of data.\n",
    "            \n",
    "            loss = loss_fn(outputs, targets)        # Get the validation loss.\n",
    "            \n",
    "            if CONFIG['n_accumulate'] > 1:\n",
    "                loss = loss / CONFIG['n_accumulate']\n",
    "\n",
    "            val_losses.append(loss.item())\n",
    "\n",
    "            #get progress bar\n",
    "            batch_size = ids.size(0)\n",
    "            running_loss += (loss.item() * batch_size)\n",
    "            dataset_size += batch_size\n",
    "            \n",
    "            epoch_loss = running_loss / dataset_size\n",
    "            \n",
    "            bar.set_postfix(Train_Loss=epoch_loss)\n",
    "            \n",
    "        gc.collect()\n",
    "            \n",
    "    return val_losses "
   ]
  },
  {
   "cell_type": "code",
   "execution_count": 10,
   "id": "f0f953b3",
   "metadata": {
    "execution": {
     "iopub.execute_input": "2022-09-14T20:36:52.625385Z",
     "iopub.status.busy": "2022-09-14T20:36:52.624583Z",
     "iopub.status.idle": "2022-09-14T20:36:52.631317Z",
     "shell.execute_reply": "2022-09-14T20:36:52.630495Z"
    },
    "papermill": {
     "duration": 0.014553,
     "end_time": "2022-09-14T20:36:52.633250",
     "exception": false,
     "start_time": "2022-09-14T20:36:52.618697",
     "status": "completed"
    },
    "tags": []
   },
   "outputs": [],
   "source": [
    "def plot_lr_schedule(learning_rates):\n",
    "    x = np.arange(len(learning_rates))\n",
    "    plt.plot(x, learning_rates)\n",
    "    plt.title(f'Linear schedule')\n",
    "    plt.ylabel(\"Learning Rate\")\n",
    "    plt.xlabel(\"Training Steps\")\n",
    "    plt.show()\n",
    "    \n",
    "def plot_train_val_losses(train_losses, val_losses, fold):\n",
    "    x = np.arange(len(train_losses))\n",
    "    plt.plot(x, train_losses, label=\"training loss\", marker='o')\n",
    "    plt.plot(x, val_losses, label=\"validation loss\", marker='o')\n",
    "    plt.legend(loc=\"best\")   # to show the labels.\n",
    "    plt.title(f'Fold {fold}: model')    \n",
    "    plt.ylabel(\"RMSE\")\n",
    "    plt.xlabel(f\"Epoch\")    \n",
    "    plt.show()"
   ]
  },
  {
   "cell_type": "code",
   "execution_count": 11,
   "id": "c8beb7ee",
   "metadata": {
    "execution": {
     "iopub.execute_input": "2022-09-14T20:36:52.644902Z",
     "iopub.status.busy": "2022-09-14T20:36:52.644652Z",
     "iopub.status.idle": "2022-09-14T20:36:52.659289Z",
     "shell.execute_reply": "2022-09-14T20:36:52.658336Z"
    },
    "papermill": {
     "duration": 0.022917,
     "end_time": "2022-09-14T20:36:52.661254",
     "exception": false,
     "start_time": "2022-09-14T20:36:52.638337",
     "status": "completed"
    },
    "tags": []
   },
   "outputs": [],
   "source": [
    "def run_training(df):  \n",
    "    \n",
    "    \"\"\"\n",
    "    run training\n",
    "    \"\"\"    \n",
    "    EPOCHS = CONFIG['epochs']  \n",
    "    FOLDS = [0,1,2,3,4]   # Set the list of folds you want to train\n",
    "    EARLY_STOP_THRESHOLD = 3    \n",
    "    TRAIN_BS = CONFIG['train_batch_size']             # Training batch size     \n",
    "    VAL_BS = CONFIG['valid_batch_size']               # Validation batch size  \n",
    "    cv = []                   # A list to hold the cross validation scores\n",
    "    \n",
    "    #=========================================================================\n",
    "    # Prepare data and model for training\n",
    "    #=========================================================================\n",
    "    \n",
    "    for fold in FOLDS:\n",
    "        \n",
    "        # Initialize the tokenizer\n",
    "        tokenizer =  AutoTokenizer.from_pretrained(CONFIG['model_name'])\n",
    "\n",
    "        # Fetch training data\n",
    "        df_train = df[df[\"kfold\"] != fold].reset_index(drop=True)\n",
    "\n",
    "        # Fetch validation data\n",
    "        df_val = df[df[\"kfold\"] == fold].reset_index(drop=True)\n",
    "\n",
    "        # Initialize training dataset\n",
    "        train_dataset = FPDataset(df_train['full_text'].values, df_train[['cohesion', 'syntax', 'vocabulary', 'phraseology', 'grammar', 'conventions']].values, tokenizer)\n",
    "\n",
    "        # Initialize validation dataset\n",
    "        val_dataset = FPDataset(df_val['full_text'].values, df_val[['cohesion', 'syntax', 'vocabulary', 'phraseology', 'grammar', 'conventions']].values, tokenizer)\n",
    "\n",
    "        # Create training dataloader\n",
    "        train_data_loader = DataLoader(train_dataset, batch_size = TRAIN_BS,\n",
    "                                       shuffle = True, num_workers = 2)\n",
    "\n",
    "        # Create validation dataloader\n",
    "        val_data_loader = DataLoader(val_dataset, batch_size = VAL_BS,\n",
    "                                     shuffle = False, num_workers = 2)\n",
    "\n",
    "        # Initialize the cuda device (or use CPU if you don't have GPU)\n",
    "        device = torch.device(\"cuda:0\" if torch.cuda.is_available() else \"cpu\")\n",
    "\n",
    "        # Load model and send it to the device.        \n",
    "        model =  FPModel(CONFIG, config_path=None, pretrained=True)\n",
    "        torch.save(model.config, './config.pth')\n",
    "        model = model.to(device)\n",
    "\n",
    "        # Get the AdamW optimizer\n",
    "        optimizer = AdamW(model.parameters(), lr=CONFIG['learning_rate'])\n",
    "\n",
    "        # Calculate the number of training steps (this is used by scheduler).\n",
    "        train_steps = int(len(df_train) / TRAIN_BS * EPOCHS)    \n",
    "\n",
    "        # Get the learning rate scheduler    \n",
    "        scheduler = get_linear_schedule_with_warmup(                \n",
    "                optimizer = optimizer,\n",
    "                num_warmup_steps = int(train_steps*0.1),\n",
    "                num_training_steps = train_steps\n",
    "        )\n",
    "\n",
    "        #=========================================================================\n",
    "        # Training Loop - Start training the epochs\n",
    "        #=========================================================================\n",
    "\n",
    "        print(f\"===== FOLD: {fold} =====\")    \n",
    "        best_rmse = 999\n",
    "        early_stopping_counter = 0       \n",
    "        all_train_losses = []\n",
    "        all_val_losses = []\n",
    "        all_lr = []\n",
    "\n",
    "        for epoch in range(EPOCHS):\n",
    "\n",
    "            # Call the train function and get the training loss\n",
    "            train_losses, lr_list = train_fn(train_data_loader, model, optimizer, device, scheduler)\n",
    "            train_loss = np.mean(train_losses)   \n",
    "            all_train_losses.append(train_loss)\n",
    "            all_lr.extend(lr_list)\n",
    "\n",
    "            # Perform validation and get the validation loss\n",
    "            val_losses = validate_fn(val_data_loader, model, device)\n",
    "            val_loss = np.mean(val_losses)\n",
    "            all_val_losses.append(val_loss)    \n",
    "\n",
    "            rmse = val_loss\n",
    "\n",
    "            # If there's improvement on the validation loss, save the model checkpoint.\n",
    "            # Else do early stopping if threshold is reached.\n",
    "            if rmse < best_rmse:            \n",
    "                torch.save(model.state_dict(), f\"model_base_LR_fold_{fold}.bin\")\n",
    "                print(f\"FOLD: {fold}, Epoch: {epoch}, RMSE = {round(rmse,4)}, checkpoint saved.\")\n",
    "                best_rmse = rmse\n",
    "                early_stopping_counter = 0\n",
    "            else:\n",
    "                print(f\"FOLD: {fold}, Epoch: {epoch}, RMSE = {round(rmse,4)}\")\n",
    "                early_stopping_counter += 1\n",
    "            if early_stopping_counter > EARLY_STOP_THRESHOLD:\n",
    "                print(f\"FOLD: {fold}, Epoch: {epoch}, RMSE = {round(rmse,4)}\")\n",
    "                print(f\"Early stopping triggered! Best RMSE: {round(best_rmse,4)}\\n\")                \n",
    "                break\n",
    "\n",
    "        # Plot the losses and learning rate schedule.\n",
    "        plot_train_val_losses(all_train_losses, all_val_losses, fold)\n",
    "        plot_lr_schedule(all_lr)   \n",
    "        \n",
    "        # Keep the best_rmse as cross validation score for the fold.\n",
    "        cv.append(best_rmse)\n",
    "        \n",
    "    # Print the cross validation scores and their average.\n",
    "    cv_rounded = [ round(elem, 4) for elem in cv ] \n",
    "    print(f\"CV: {cv_rounded}\") \n",
    "    print(f\"Average CV: {round(np.mean(cv), 4)}\\n\") \n"
   ]
  },
  {
   "cell_type": "code",
   "execution_count": 12,
   "id": "d479cb16",
   "metadata": {
    "execution": {
     "iopub.execute_input": "2022-09-14T20:36:52.672433Z",
     "iopub.status.busy": "2022-09-14T20:36:52.672175Z",
     "iopub.status.idle": "2022-09-14T23:29:56.112488Z",
     "shell.execute_reply": "2022-09-14T23:29:56.111399Z"
    },
    "papermill": {
     "duration": 10383.58043,
     "end_time": "2022-09-14T23:29:56.246752",
     "exception": false,
     "start_time": "2022-09-14T20:36:52.666322",
     "status": "completed"
    },
    "tags": []
   },
   "outputs": [
    {
     "name": "stderr",
     "output_type": "stream",
     "text": [
      "Special tokens have been added in the vocabulary, make sure the associated word embeddings are fine-tuned or trained.\n",
      "Special tokens have been added in the vocabulary, make sure the associated word embeddings are fine-tuned or trained.\n"
     ]
    },
    {
     "data": {
      "application/vnd.jupyter.widget-view+json": {
       "model_id": "6d4b45dacb294c93b59c3a71d65c7b41",
       "version_major": 2,
       "version_minor": 0
      },
      "text/plain": [
       "Downloading pytorch_model.bin:   0%|          | 0.00/354M [00:00<?, ?B/s]"
      ]
     },
     "metadata": {},
     "output_type": "display_data"
    },
    {
     "name": "stderr",
     "output_type": "stream",
     "text": [
      "Some weights of the model checkpoint at microsoft/deberta-v3-base were not used when initializing DebertaV2Model: ['mask_predictions.dense.weight', 'lm_predictions.lm_head.LayerNorm.weight', 'lm_predictions.lm_head.LayerNorm.bias', 'lm_predictions.lm_head.dense.bias', 'lm_predictions.lm_head.bias', 'lm_predictions.lm_head.dense.weight', 'mask_predictions.classifier.weight', 'mask_predictions.dense.bias', 'mask_predictions.LayerNorm.weight', 'mask_predictions.classifier.bias', 'mask_predictions.LayerNorm.bias']\n",
      "- This IS expected if you are initializing DebertaV2Model from the checkpoint of a model trained on another task or with another architecture (e.g. initializing a BertForSequenceClassification model from a BertForPreTraining model).\n",
      "- This IS NOT expected if you are initializing DebertaV2Model from the checkpoint of a model that you expect to be exactly identical (initializing a BertForSequenceClassification model from a BertForSequenceClassification model).\n"
     ]
    },
    {
     "name": "stdout",
     "output_type": "stream",
     "text": [
      "===== FOLD: 0 =====\n"
     ]
    },
    {
     "name": "stderr",
     "output_type": "stream",
     "text": [
      "100%|██████████| 391/391 [06:23<00:00,  1.02it/s, LR=8.89e-6, Train_Loss=0.948]\n",
      "100%|██████████| 98/98 [00:25<00:00,  3.84it/s, Train_Loss=0.476]\n"
     ]
    },
    {
     "name": "stdout",
     "output_type": "stream",
     "text": [
      "FOLD: 0, Epoch: 0, RMSE = 0.4763, checkpoint saved.\n"
     ]
    },
    {
     "name": "stderr",
     "output_type": "stream",
     "text": [
      "100%|██████████| 391/391 [06:22<00:00,  1.02it/s, LR=6.66e-6, Train_Loss=0.468]\n",
      "100%|██████████| 98/98 [00:25<00:00,  3.85it/s, Train_Loss=0.476]\n"
     ]
    },
    {
     "name": "stdout",
     "output_type": "stream",
     "text": [
      "FOLD: 0, Epoch: 1, RMSE = 0.4761, checkpoint saved.\n"
     ]
    },
    {
     "name": "stderr",
     "output_type": "stream",
     "text": [
      "100%|██████████| 391/391 [06:22<00:00,  1.02it/s, LR=4.44e-6, Train_Loss=0.436]\n",
      "100%|██████████| 98/98 [00:25<00:00,  3.87it/s, Train_Loss=0.475]\n"
     ]
    },
    {
     "name": "stdout",
     "output_type": "stream",
     "text": [
      "FOLD: 0, Epoch: 2, RMSE = 0.4743, checkpoint saved.\n"
     ]
    },
    {
     "name": "stderr",
     "output_type": "stream",
     "text": [
      "100%|██████████| 391/391 [06:22<00:00,  1.02it/s, LR=2.22e-6, Train_Loss=0.412]\n",
      "100%|██████████| 98/98 [00:25<00:00,  3.87it/s, Train_Loss=0.459]\n"
     ]
    },
    {
     "name": "stdout",
     "output_type": "stream",
     "text": [
      "FOLD: 0, Epoch: 3, RMSE = 0.4585, checkpoint saved.\n"
     ]
    },
    {
     "name": "stderr",
     "output_type": "stream",
     "text": [
      "100%|██████████| 391/391 [06:22<00:00,  1.02it/s, LR=0, Train_Loss=0.391]\n",
      "100%|██████████| 98/98 [00:25<00:00,  3.84it/s, Train_Loss=0.452]\n"
     ]
    },
    {
     "name": "stdout",
     "output_type": "stream",
     "text": [
      "FOLD: 0, Epoch: 4, RMSE = 0.4514, checkpoint saved.\n"
     ]
    },
    {
     "data": {
      "image/png": "[encoded data removed]",
      "text/plain": [
       "<Figure size 432x288 with 1 Axes>"
      ]
     },
     "metadata": {
      "needs_background": "light"
     },
     "output_type": "display_data"
    },
    {
     "data": {
      "image/png": "[encoded data removed]",
      "text/plain": [
       "<Figure size 432x288 with 1 Axes>"
      ]
     },
     "metadata": {
      "needs_background": "light"
     },
     "output_type": "display_data"
    },
    {
     "name": "stderr",
     "output_type": "stream",
     "text": [
      "Special tokens have been added in the vocabulary, make sure the associated word embeddings are fine-tuned or trained.\n",
      "Special tokens have been added in the vocabulary, make sure the associated word embeddings are fine-tuned or trained.\n",
      "Some weights of the model checkpoint at microsoft/deberta-v3-base were not used when initializing DebertaV2Model: ['mask_predictions.dense.weight', 'lm_predictions.lm_head.LayerNorm.weight', 'lm_predictions.lm_head.LayerNorm.bias', 'lm_predictions.lm_head.dense.bias', 'lm_predictions.lm_head.bias', 'lm_predictions.lm_head.dense.weight', 'mask_predictions.classifier.weight', 'mask_predictions.dense.bias', 'mask_predictions.LayerNorm.weight', 'mask_predictions.classifier.bias', 'mask_predictions.LayerNorm.bias']\n",
      "- This IS expected if you are initializing DebertaV2Model from the checkpoint of a model trained on another task or with another architecture (e.g. initializing a BertForSequenceClassification model from a BertForPreTraining model).\n",
      "- This IS NOT expected if you are initializing DebertaV2Model from the checkpoint of a model that you expect to be exactly identical (initializing a BertForSequenceClassification model from a BertForSequenceClassification model).\n"
     ]
    },
    {
     "name": "stdout",
     "output_type": "stream",
     "text": [
      "===== FOLD: 1 =====\n"
     ]
    },
    {
     "name": "stderr",
     "output_type": "stream",
     "text": [
      "100%|██████████| 392/392 [06:23<00:00,  1.02it/s, LR=8.88e-6, Train_Loss=0.955]\n",
      "100%|██████████| 98/98 [00:25<00:00,  3.84it/s, Train_Loss=0.506]\n"
     ]
    },
    {
     "name": "stdout",
     "output_type": "stream",
     "text": [
      "FOLD: 1, Epoch: 0, RMSE = 0.5054, checkpoint saved.\n"
     ]
    },
    {
     "name": "stderr",
     "output_type": "stream",
     "text": [
      "100%|██████████| 392/392 [06:24<00:00,  1.02it/s, LR=6.65e-6, Train_Loss=0.469]\n",
      "100%|██████████| 98/98 [00:25<00:00,  3.87it/s, Train_Loss=0.464]\n"
     ]
    },
    {
     "name": "stdout",
     "output_type": "stream",
     "text": [
      "FOLD: 1, Epoch: 1, RMSE = 0.4633, checkpoint saved.\n"
     ]
    },
    {
     "name": "stderr",
     "output_type": "stream",
     "text": [
      "100%|██████████| 392/392 [06:23<00:00,  1.02it/s, LR=4.43e-6, Train_Loss=0.44]\n",
      "100%|██████████| 98/98 [00:25<00:00,  3.82it/s, Train_Loss=0.461]\n"
     ]
    },
    {
     "name": "stdout",
     "output_type": "stream",
     "text": [
      "FOLD: 1, Epoch: 2, RMSE = 0.4606, checkpoint saved.\n"
     ]
    },
    {
     "name": "stderr",
     "output_type": "stream",
     "text": [
      "100%|██████████| 392/392 [06:26<00:00,  1.01it/s, LR=2.2e-6, Train_Loss=0.414]\n",
      "100%|██████████| 98/98 [00:25<00:00,  3.80it/s, Train_Loss=0.466]\n"
     ]
    },
    {
     "name": "stdout",
     "output_type": "stream",
     "text": [
      "FOLD: 1, Epoch: 3, RMSE = 0.4661\n"
     ]
    },
    {
     "name": "stderr",
     "output_type": "stream",
     "text": [
      "100%|██████████| 392/392 [06:25<00:00,  1.02it/s, LR=0, Train_Loss=0.393]\n",
      "100%|██████████| 98/98 [00:25<00:00,  3.78it/s, Train_Loss=0.454]\n"
     ]
    },
    {
     "name": "stdout",
     "output_type": "stream",
     "text": [
      "FOLD: 1, Epoch: 4, RMSE = 0.454, checkpoint saved.\n"
     ]
    },
    {
     "data": {
      "image/png": "[encoded data removed]",
      "text/plain": [
       "<Figure size 432x288 with 1 Axes>"
      ]
     },
     "metadata": {
      "needs_background": "light"
     },
     "output_type": "display_data"
    },
    {
     "data": {
      "image/png": "[encoded data removed]",
      "text/plain": [
       "<Figure size 432x288 with 1 Axes>"
      ]
     },
     "metadata": {
      "needs_background": "light"
     },
     "output_type": "display_data"
    },
    {
     "name": "stderr",
     "output_type": "stream",
     "text": [
      "Special tokens have been added in the vocabulary, make sure the associated word embeddings are fine-tuned or trained.\n",
      "Special tokens have been added in the vocabulary, make sure the associated word embeddings are fine-tuned or trained.\n",
      "Some weights of the model checkpoint at microsoft/deberta-v3-base were not used when initializing DebertaV2Model: ['mask_predictions.dense.weight', 'lm_predictions.lm_head.LayerNorm.weight', 'lm_predictions.lm_head.LayerNorm.bias', 'lm_predictions.lm_head.dense.bias', 'lm_predictions.lm_head.bias', 'lm_predictions.lm_head.dense.weight', 'mask_predictions.classifier.weight', 'mask_predictions.dense.bias', 'mask_predictions.LayerNorm.weight', 'mask_predictions.classifier.bias', 'mask_predictions.LayerNorm.bias']\n",
      "- This IS expected if you are initializing DebertaV2Model from the checkpoint of a model trained on another task or with another architecture (e.g. initializing a BertForSequenceClassification model from a BertForPreTraining model).\n",
      "- This IS NOT expected if you are initializing DebertaV2Model from the checkpoint of a model that you expect to be exactly identical (initializing a BertForSequenceClassification model from a BertForSequenceClassification model).\n"
     ]
    },
    {
     "name": "stdout",
     "output_type": "stream",
     "text": [
      "===== FOLD: 2 =====\n"
     ]
    },
    {
     "name": "stderr",
     "output_type": "stream",
     "text": [
      "100%|██████████| 392/392 [06:27<00:00,  1.01it/s, LR=8.88e-6, Train_Loss=0.966]\n",
      "100%|██████████| 98/98 [00:25<00:00,  3.82it/s, Train_Loss=0.493]\n"
     ]
    },
    {
     "name": "stdout",
     "output_type": "stream",
     "text": [
      "FOLD: 2, Epoch: 0, RMSE = 0.4926, checkpoint saved.\n"
     ]
    },
    {
     "name": "stderr",
     "output_type": "stream",
     "text": [
      "100%|██████████| 392/392 [06:25<00:00,  1.02it/s, LR=6.65e-6, Train_Loss=0.471]\n",
      "100%|██████████| 98/98 [00:25<00:00,  3.77it/s, Train_Loss=0.47]\n"
     ]
    },
    {
     "name": "stdout",
     "output_type": "stream",
     "text": [
      "FOLD: 2, Epoch: 1, RMSE = 0.4701, checkpoint saved.\n"
     ]
    },
    {
     "name": "stderr",
     "output_type": "stream",
     "text": [
      "100%|██████████| 392/392 [06:25<00:00,  1.02it/s, LR=4.43e-6, Train_Loss=0.436]\n",
      "100%|██████████| 98/98 [00:25<00:00,  3.88it/s, Train_Loss=0.46]\n"
     ]
    },
    {
     "name": "stdout",
     "output_type": "stream",
     "text": [
      "FOLD: 2, Epoch: 2, RMSE = 0.4604, checkpoint saved.\n"
     ]
    },
    {
     "name": "stderr",
     "output_type": "stream",
     "text": [
      "100%|██████████| 392/392 [06:25<00:00,  1.02it/s, LR=2.2e-6, Train_Loss=0.415]\n",
      "100%|██████████| 98/98 [00:25<00:00,  3.86it/s, Train_Loss=0.46]\n"
     ]
    },
    {
     "name": "stdout",
     "output_type": "stream",
     "text": [
      "FOLD: 2, Epoch: 3, RMSE = 0.4604\n"
     ]
    },
    {
     "name": "stderr",
     "output_type": "stream",
     "text": [
      "100%|██████████| 392/392 [06:25<00:00,  1.02it/s, LR=0, Train_Loss=0.391]\n",
      "100%|██████████| 98/98 [00:25<00:00,  3.82it/s, Train_Loss=0.461]\n"
     ]
    },
    {
     "name": "stdout",
     "output_type": "stream",
     "text": [
      "FOLD: 2, Epoch: 4, RMSE = 0.4611\n"
     ]
    },
    {
     "data": {
      "image/png": "[encoded data removed]",
      "text/plain": [
       "<Figure size 432x288 with 1 Axes>"
      ]
     },
     "metadata": {
      "needs_background": "light"
     },
     "output_type": "display_data"
    },
    {
     "data": {
      "image/png": "[encoded data removed]",
      "text/plain": [
       "<Figure size 432x288 with 1 Axes>"
      ]
     },
     "metadata": {
      "needs_background": "light"
     },
     "output_type": "display_data"
    },
    {
     "name": "stderr",
     "output_type": "stream",
     "text": [
      "Special tokens have been added in the vocabulary, make sure the associated word embeddings are fine-tuned or trained.\n",
      "Special tokens have been added in the vocabulary, make sure the associated word embeddings are fine-tuned or trained.\n",
      "Some weights of the model checkpoint at microsoft/deberta-v3-base were not used when initializing DebertaV2Model: ['mask_predictions.dense.weight', 'lm_predictions.lm_head.LayerNorm.weight', 'lm_predictions.lm_head.LayerNorm.bias', 'lm_predictions.lm_head.dense.bias', 'lm_predictions.lm_head.bias', 'lm_predictions.lm_head.dense.weight', 'mask_predictions.classifier.weight', 'mask_predictions.dense.bias', 'mask_predictions.LayerNorm.weight', 'mask_predictions.classifier.bias', 'mask_predictions.LayerNorm.bias']\n",
      "- This IS expected if you are initializing DebertaV2Model from the checkpoint of a model trained on another task or with another architecture (e.g. initializing a BertForSequenceClassification model from a BertForPreTraining model).\n",
      "- This IS NOT expected if you are initializing DebertaV2Model from the checkpoint of a model that you expect to be exactly identical (initializing a BertForSequenceClassification model from a BertForSequenceClassification model).\n"
     ]
    },
    {
     "name": "stdout",
     "output_type": "stream",
     "text": [
      "===== FOLD: 3 =====\n"
     ]
    },
    {
     "name": "stderr",
     "output_type": "stream",
     "text": [
      "100%|██████████| 392/392 [06:26<00:00,  1.01it/s, LR=8.88e-6, Train_Loss=0.986]\n",
      "100%|██████████| 98/98 [00:25<00:00,  3.81it/s, Train_Loss=0.49]\n"
     ]
    },
    {
     "name": "stdout",
     "output_type": "stream",
     "text": [
      "FOLD: 3, Epoch: 0, RMSE = 0.4897, checkpoint saved.\n"
     ]
    },
    {
     "name": "stderr",
     "output_type": "stream",
     "text": [
      "100%|██████████| 392/392 [06:25<00:00,  1.02it/s, LR=6.65e-6, Train_Loss=0.462]\n",
      "100%|██████████| 98/98 [00:26<00:00,  3.77it/s, Train_Loss=0.459]\n"
     ]
    },
    {
     "name": "stdout",
     "output_type": "stream",
     "text": [
      "FOLD: 3, Epoch: 1, RMSE = 0.4592, checkpoint saved.\n"
     ]
    },
    {
     "name": "stderr",
     "output_type": "stream",
     "text": [
      "100%|██████████| 392/392 [06:25<00:00,  1.02it/s, LR=4.43e-6, Train_Loss=0.436]\n",
      "100%|██████████| 98/98 [00:25<00:00,  3.83it/s, Train_Loss=0.456]\n"
     ]
    },
    {
     "name": "stdout",
     "output_type": "stream",
     "text": [
      "FOLD: 3, Epoch: 2, RMSE = 0.4562, checkpoint saved.\n"
     ]
    },
    {
     "name": "stderr",
     "output_type": "stream",
     "text": [
      "100%|██████████| 392/392 [06:24<00:00,  1.02it/s, LR=2.2e-6, Train_Loss=0.408]\n",
      "100%|██████████| 98/98 [00:25<00:00,  3.79it/s, Train_Loss=0.456]\n"
     ]
    },
    {
     "name": "stdout",
     "output_type": "stream",
     "text": [
      "FOLD: 3, Epoch: 3, RMSE = 0.4556, checkpoint saved.\n"
     ]
    },
    {
     "name": "stderr",
     "output_type": "stream",
     "text": [
      "100%|██████████| 392/392 [06:24<00:00,  1.02it/s, LR=0, Train_Loss=0.387]\n",
      "100%|██████████| 98/98 [00:25<00:00,  3.83it/s, Train_Loss=0.458]\n"
     ]
    },
    {
     "name": "stdout",
     "output_type": "stream",
     "text": [
      "FOLD: 3, Epoch: 4, RMSE = 0.4579\n"
     ]
    },
    {
     "data": {
      "image/png": "[encoded data removed]",
      "text/plain": [
       "<Figure size 432x288 with 1 Axes>"
      ]
     },
     "metadata": {
      "needs_background": "light"
     },
     "output_type": "display_data"
    },
    {
     "data": {
      "image/png": "[encoded data removed]",
      "text/plain": [
       "<Figure size 432x288 with 1 Axes>"
      ]
     },
     "metadata": {
      "needs_background": "light"
     },
     "output_type": "display_data"
    },
    {
     "name": "stderr",
     "output_type": "stream",
     "text": [
      "Special tokens have been added in the vocabulary, make sure the associated word embeddings are fine-tuned or trained.\n",
      "Special tokens have been added in the vocabulary, make sure the associated word embeddings are fine-tuned or trained.\n",
      "Some weights of the model checkpoint at microsoft/deberta-v3-base were not used when initializing DebertaV2Model: ['mask_predictions.dense.weight', 'lm_predictions.lm_head.LayerNorm.weight', 'lm_predictions.lm_head.LayerNorm.bias', 'lm_predictions.lm_head.dense.bias', 'lm_predictions.lm_head.bias', 'lm_predictions.lm_head.dense.weight', 'mask_predictions.classifier.weight', 'mask_predictions.dense.bias', 'mask_predictions.LayerNorm.weight', 'mask_predictions.classifier.bias', 'mask_predictions.LayerNorm.bias']\n",
      "- This IS expected if you are initializing DebertaV2Model from the checkpoint of a model trained on another task or with another architecture (e.g. initializing a BertForSequenceClassification model from a BertForPreTraining model).\n",
      "- This IS NOT expected if you are initializing DebertaV2Model from the checkpoint of a model that you expect to be exactly identical (initializing a BertForSequenceClassification model from a BertForSequenceClassification model).\n"
     ]
    },
    {
     "name": "stdout",
     "output_type": "stream",
     "text": [
      "===== FOLD: 4 =====\n"
     ]
    },
    {
     "name": "stderr",
     "output_type": "stream",
     "text": [
      "100%|██████████| 392/392 [06:25<00:00,  1.02it/s, LR=8.88e-6, Train_Loss=0.904]\n",
      "100%|██████████| 98/98 [00:25<00:00,  3.88it/s, Train_Loss=0.473]\n"
     ]
    },
    {
     "name": "stdout",
     "output_type": "stream",
     "text": [
      "FOLD: 4, Epoch: 0, RMSE = 0.473, checkpoint saved.\n"
     ]
    },
    {
     "name": "stderr",
     "output_type": "stream",
     "text": [
      "100%|██████████| 392/392 [06:25<00:00,  1.02it/s, LR=6.65e-6, Train_Loss=0.457]\n",
      "100%|██████████| 98/98 [00:25<00:00,  3.79it/s, Train_Loss=0.459]\n"
     ]
    },
    {
     "name": "stdout",
     "output_type": "stream",
     "text": [
      "FOLD: 4, Epoch: 1, RMSE = 0.4592, checkpoint saved.\n"
     ]
    },
    {
     "name": "stderr",
     "output_type": "stream",
     "text": [
      "100%|██████████| 392/392 [06:27<00:00,  1.01it/s, LR=4.43e-6, Train_Loss=0.429]\n",
      "100%|██████████| 98/98 [00:25<00:00,  3.78it/s, Train_Loss=0.457]\n"
     ]
    },
    {
     "name": "stdout",
     "output_type": "stream",
     "text": [
      "FOLD: 4, Epoch: 2, RMSE = 0.4573, checkpoint saved.\n"
     ]
    },
    {
     "name": "stderr",
     "output_type": "stream",
     "text": [
      "100%|██████████| 392/392 [06:31<00:00,  1.00it/s, LR=2.2e-6, Train_Loss=0.402]\n",
      "100%|██████████| 98/98 [00:25<00:00,  3.78it/s, Train_Loss=0.458]\n"
     ]
    },
    {
     "name": "stdout",
     "output_type": "stream",
     "text": [
      "FOLD: 4, Epoch: 3, RMSE = 0.4582\n"
     ]
    },
    {
     "name": "stderr",
     "output_type": "stream",
     "text": [
      "100%|██████████| 392/392 [06:26<00:00,  1.01it/s, LR=0, Train_Loss=0.378]\n",
      "100%|██████████| 98/98 [00:25<00:00,  3.84it/s, Train_Loss=0.458]\n"
     ]
    },
    {
     "name": "stdout",
     "output_type": "stream",
     "text": [
      "FOLD: 4, Epoch: 4, RMSE = 0.4575\n"
     ]
    },
    {
     "data": {
      "image/png": "[encoded data removed]",
      "text/plain": [
       "<Figure size 432x288 with 1 Axes>"
      ]
     },
     "metadata": {
      "needs_background": "light"
     },
     "output_type": "display_data"
    },
    {
     "data": {
      "image/png": "[encoded data removed]",
      "text/plain": [
       "<Figure size 432x288 with 1 Axes>"
      ]
     },
     "metadata": {
      "needs_background": "light"
     },
     "output_type": "display_data"
    },
    {
     "name": "stdout",
     "output_type": "stream",
     "text": [
      "CV: [0.4514, 0.454, 0.4604, 0.4556, 0.4573]\n",
      "Average CV: 0.4557\n",
      "\n"
     ]
    }
   ],
   "source": [
    "run_training(df)"
   ]
  },
  {
   "cell_type": "code",
   "execution_count": null,
   "id": "1a8b040d",
   "metadata": {
    "papermill": {
     "duration": 1.366795,
     "end_time": "2022-09-14T23:29:58.948287",
     "exception": false,
     "start_time": "2022-09-14T23:29:57.581492",
     "status": "completed"
    },
    "tags": []
   },
   "outputs": [],
   "source": []
  },
  {
   "cell_type": "code",
   "execution_count": null,
   "id": "0016d417",
   "metadata": {
    "papermill": {
     "duration": 1.352567,
     "end_time": "2022-09-14T23:30:01.991827",
     "exception": false,
     "start_time": "2022-09-14T23:30:00.639260",
     "status": "completed"
    },
    "tags": []
   },
   "outputs": [],
   "source": []
  }
 ],
 "metadata": {
  "kernelspec": {
   "display_name": "Python 3",
   "language": "python",
   "name": "python3"
  },
  "language_info": {
   "codemirror_mode": {
    "name": "ipython",
    "version": 3
   },
   "file_extension": ".py",
   "mimetype": "text/x-python",
   "name": "python",
   "nbconvert_exporter": "python",
   "pygments_lexer": "ipython3",
   "version": "3.7.12"
  },
  "papermill": {
   "default_parameters": {},
   "duration": 10440.246923,
   "end_time": "2022-09-14T23:30:06.889022",
   "environment_variables": {},
   "exception": null,
   "input_path": "__notebook__.ipynb",
   "output_path": "__notebook__.ipynb",
   "parameters": {},
   "start_time": "2022-09-14T20:36:06.642099",
   "version": "2.3.4"
  },
  "widgets": {
   "application/vnd.jupyter.widget-state+json": {
    "state": {
     "165f59a864fc46d0b734a94ced47b546": {
      "model_module": "@jupyter-widgets/base",
      "model_module_version": "1.2.0",
      "model_name": "LayoutModel",
      "state": {
       "_model_module": "@jupyter-widgets/base",
       "_model_module_version": "1.2.0",
       "_model_name": "LayoutModel",
       "_view_count": null,
       "_view_module": "@jupyter-widgets/base",
       "_view_module_version": "1.2.0",
       "_view_name": "LayoutView",
       "align_content": null,
       "align_items": null,
       "align_self": null,
       "border": null,
       "bottom": null,
       "display": null,
       "flex": null,
       "flex_flow": null,
       "grid_area": null,
       "grid_auto_columns": null,
       "grid_auto_flow": null,
       "grid_auto_rows": null,
       "grid_column": null,
       "grid_gap": null,
       "grid_row": null,
       "grid_template_areas": null,
       "grid_template_columns": null,
       "grid_template_rows": null,
       "height": null,
       "justify_content": null,
       "justify_items": null,
       "left": null,
       "margin": null,
       "max_height": null,
       "max_width": null,
       "min_height": null,
       "min_width": null,
       "object_fit": null,
       "object_position": null,
       "order": null,
       "overflow": null,
       "overflow_x": null,
       "overflow_y": null,
       "padding": null,
       "right": null,
       "top": null,
       "visibility": null,
       "width": null
      }
     },
     "2086b6ba59604022adf37ca266b6736a": {
      "model_module": "@jupyter-widgets/base",
      "model_module_version": "1.2.0",
      "model_name": "LayoutModel",
      "state": {
       "_model_module": "@jupyter-widgets/base",
       "_model_module_version": "1.2.0",
       "_model_name": "LayoutModel",
       "_view_count": null,
       "_view_module": "@jupyter-widgets/base",
       "_view_module_version": "1.2.0",
       "_view_name": "LayoutView",
       "align_content": null,
       "align_items": null,
       "align_self": null,
       "border": null,
       "bottom": null,
       "display": null,
       "flex": null,
       "flex_flow": null,
       "grid_area": null,
       "grid_auto_columns": null,
       "grid_auto_flow": null,
       "grid_auto_rows": null,
       "grid_column": null,
       "grid_gap": null,
       "grid_row": null,
       "grid_template_areas": null,
       "grid_template_columns": null,
       "grid_template_rows": null,
       "height": null,
       "justify_content": null,
       "justify_items": null,
       "left": null,
       "margin": null,
       "max_height": null,
       "max_width": null,
       "min_height": null,
       "min_width": null,
       "object_fit": null,
       "object_position": null,
       "order": null,
       "overflow": null,
       "overflow_x": null,
       "overflow_y": null,
       "padding": null,
       "right": null,
       "top": null,
       "visibility": null,
       "width": null
      }
     },
     "397d9f257d924c28a6ab29aeb787b2dd": {
      "model_module": "@jupyter-widgets/base",
      "model_module_version": "1.2.0",
      "model_name": "LayoutModel",
      "state": {
       "_model_module": "@jupyter-widgets/base",
       "_model_module_version": "1.2.0",
       "_model_name": "LayoutModel",
       "_view_count": null,
       "_view_module": "@jupyter-widgets/base",
       "_view_module_version": "1.2.0",
       "_view_name": "LayoutView",
       "align_content": null,
       "align_items": null,
       "align_self": null,
       "border": null,
       "bottom": null,
       "display": null,
       "flex": null,
       "flex_flow": null,
       "grid_area": null,
       "grid_auto_columns": null,
       "grid_auto_flow": null,
       "grid_auto_rows": null,
       "grid_column": null,
       "grid_gap": null,
       "grid_row": null,
       "grid_template_areas": null,
       "grid_template_columns": null,
       "grid_template_rows": null,
       "height": null,
       "justify_content": null,
       "justify_items": null,
       "left": null,
       "margin": null,
       "max_height": null,
       "max_width": null,
       "min_height": null,
       "min_width": null,
       "object_fit": null,
       "object_position": null,
       "order": null,
       "overflow": null,
       "overflow_x": null,
       "overflow_y": null,
       "padding": null,
       "right": null,
       "top": null,
       "visibility": null,
       "width": null
      }
     },
     "39ee054a8d1744c6ab57e137ae6078d8": {
      "model_module": "@jupyter-widgets/controls",
      "model_module_version": "1.5.0",
      "model_name": "HBoxModel",
      "state": {
       "_dom_classes": [],
       "_model_module": "@jupyter-widgets/controls",
       "_model_module_version": "1.5.0",
       "_model_name": "HBoxModel",
       "_view_count": null,
       "_view_module": "@jupyter-widgets/controls",
       "_view_module_version": "1.5.0",
       "_view_name": "HBoxView",
       "box_style": "",
       "children": [
        "IPY_MODEL_fa2ecf7df5be4f429e379cdd7171ffe2",
        "IPY_MODEL_8a7f9ba61cf1499e9f455fb440830041",
        "IPY_MODEL_8b58799bf8644123ac8b4b044ff51426"
       ],
       "layout": "IPY_MODEL_bb53d3f4de984974b21ce9b4e617b519"
      }
     },
     "4cc11844d73a42f1a7399816ecf1989a": {
      "model_module": "@jupyter-widgets/base",
      "model_module_version": "1.2.0",
      "model_name": "LayoutModel",
      "state": {
       "_model_module": "@jupyter-widgets/base",
       "_model_module_version": "1.2.0",
       "_model_name": "LayoutModel",
       "_view_count": null,
       "_view_module": "@jupyter-widgets/base",
       "_view_module_version": "1.2.0",
       "_view_name": "LayoutView",
       "align_content": null,
       "align_items": null,
       "align_self": null,
       "border": null,
       "bottom": null,
       "display": null,
       "flex": null,
       "flex_flow": null,
       "grid_area": null,
       "grid_auto_columns": null,
       "grid_auto_flow": null,
       "grid_auto_rows": null,
       "grid_column": null,
       "grid_gap": null,
       "grid_row": null,
       "grid_template_areas": null,
       "grid_template_columns": null,
       "grid_template_rows": null,
       "height": null,
       "justify_content": null,
       "justify_items": null,
       "left": null,
       "margin": null,
       "max_height": null,
       "max_width": null,
       "min_height": null,
       "min_width": null,
       "object_fit": null,
       "object_position": null,
       "order": null,
       "overflow": null,
       "overflow_x": null,
       "overflow_y": null,
       "padding": null,
       "right": null,
       "top": null,
       "visibility": null,
       "width": null
      }
     },
     "4e21ccc586e24aac9948529e0afba65b": {
      "model_module": "@jupyter-widgets/controls",
      "model_module_version": "1.5.0",
      "model_name": "ProgressStyleModel",
      "state": {
       "_model_module": "@jupyter-widgets/controls",
       "_model_module_version": "1.5.0",
       "_model_name": "ProgressStyleModel",
       "_view_count": null,
       "_view_module": "@jupyter-widgets/base",
       "_view_module_version": "1.2.0",
       "_view_name": "StyleView",
       "bar_color": null,
       "description_width": ""
      }
     },
     "6d4b45dacb294c93b59c3a71d65c7b41": {
      "model_module": "@jupyter-widgets/controls",
      "model_module_version": "1.5.0",
      "model_name": "HBoxModel",
      "state": {
       "_dom_classes": [],
       "_model_module": "@jupyter-widgets/controls",
       "_model_module_version": "1.5.0",
       "_model_name": "HBoxModel",
       "_view_count": null,
       "_view_module": "@jupyter-widgets/controls",
       "_view_module_version": "1.5.0",
       "_view_name": "HBoxView",
       "box_style": "",
       "children": [
        "IPY_MODEL_7d8d87b4b40640b4a543746399103bfd",
        "IPY_MODEL_a20d9d45d2484297bd4c28a511e6e027",
        "IPY_MODEL_cd929f82a9274440866fdb8c8ccc2e23"
       ],
       "layout": "IPY_MODEL_8bb2061633e64485862365e883bfcaf8"
      }
     },
     "7d8d87b4b40640b4a543746399103bfd": {
      "model_module": "@jupyter-widgets/controls",
      "model_module_version": "1.5.0",
      "model_name": "HTMLModel",
      "state": {
       "_dom_classes": [],
       "_model_module": "@jupyter-widgets/controls",
       "_model_module_version": "1.5.0",
       "_model_name": "HTMLModel",
       "_view_count": null,
       "_view_module": "@jupyter-widgets/controls",
       "_view_module_version": "1.5.0",
       "_view_name": "HTMLView",
       "description": "",
       "description_tooltip": null,
       "layout": "IPY_MODEL_967fb6253b96478fb978e8d93b7ffd6a",
       "placeholder": "​",
       "style": "IPY_MODEL_a372d6bb0b304cf7a0c333923e5fc418",
       "value": "Downloading pytorch_model.bin: 100%"
      }
     },
     "8057522499f74b66a54e3def3329603b": {
      "model_module": "@jupyter-widgets/controls",
      "model_module_version": "1.5.0",
      "model_name": "HTMLModel",
      "state": {
       "_dom_classes": [],
       "_model_module": "@jupyter-widgets/controls",
       "_model_module_version": "1.5.0",
       "_model_name": "HTMLModel",
       "_view_count": null,
       "_view_module": "@jupyter-widgets/controls",
       "_view_module_version": "1.5.0",
       "_view_name": "HTMLView",
       "description": "",
       "description_tooltip": null,
       "layout": "IPY_MODEL_cfbb7c58608e4c62a0e230d0d5af321d",
       "placeholder": "​",
       "style": "IPY_MODEL_c062ec441c58435f94c2648135551c9a",
       "value": "Downloading tokenizer_config.json: 100%"
      }
     },
     "834dee036b3049f29662cf54d9d07939": {
      "model_module": "@jupyter-widgets/base",
      "model_module_version": "1.2.0",
      "model_name": "LayoutModel",
      "state": {
       "_model_module": "@jupyter-widgets/base",
       "_model_module_version": "1.2.0",
       "_model_name": "LayoutModel",
       "_view_count": null,
       "_view_module": "@jupyter-widgets/base",
       "_view_module_version": "1.2.0",
       "_view_name": "LayoutView",
       "align_content": null,
       "align_items": null,
       "align_self": null,
       "border": null,
       "bottom": null,
       "display": null,
       "flex": null,
       "flex_flow": null,
       "grid_area": null,
       "grid_auto_columns": null,
       "grid_auto_flow": null,
       "grid_auto_rows": null,
       "grid_column": null,
       "grid_gap": null,
       "grid_row": null,
       "grid_template_areas": null,
       "grid_template_columns": null,
       "grid_template_rows": null,
       "height": null,
       "justify_content": null,
       "justify_items": null,
       "left": null,
       "margin": null,
       "max_height": null,
       "max_width": null,
       "min_height": null,
       "min_width": null,
       "object_fit": null,
       "object_position": null,
       "order": null,
       "overflow": null,
       "overflow_x": null,
       "overflow_y": null,
       "padding": null,
       "right": null,
       "top": null,
       "visibility": null,
       "width": null
      }
     },
     "8a7f9ba61cf1499e9f455fb440830041": {
      "model_module": "@jupyter-widgets/controls",
      "model_module_version": "1.5.0",
      "model_name": "FloatProgressModel",
      "state": {
       "_dom_classes": [],
       "_model_module": "@jupyter-widgets/controls",
       "_model_module_version": "1.5.0",
       "_model_name": "FloatProgressModel",
       "_view_count": null,
       "_view_module": "@jupyter-widgets/controls",
       "_view_module_version": "1.5.0",
       "_view_name": "ProgressView",
       "bar_style": "success",
       "description": "",
       "description_tooltip": null,
       "layout": "IPY_MODEL_397d9f257d924c28a6ab29aeb787b2dd",
       "max": 2464616.0,
       "min": 0.0,
       "orientation": "horizontal",
       "style": "IPY_MODEL_b308c149f47243bb9d918a491363ce37",
       "value": 2464616.0
      }
     },
     "8b58799bf8644123ac8b4b044ff51426": {
      "model_module": "@jupyter-widgets/controls",
      "model_module_version": "1.5.0",
      "model_name": "HTMLModel",
      "state": {
       "_dom_classes": [],
       "_model_module": "@jupyter-widgets/controls",
       "_model_module_version": "1.5.0",
       "_model_name": "HTMLModel",
       "_view_count": null,
       "_view_module": "@jupyter-widgets/controls",
       "_view_module_version": "1.5.0",
       "_view_name": "HTMLView",
       "description": "",
       "description_tooltip": null,
       "layout": "IPY_MODEL_e5fe3772c4ae465d930c1ffeafdc4a82",
       "placeholder": "​",
       "style": "IPY_MODEL_c9ed5550d9394261a5728510099a3ab8",
       "value": " 2.35M/2.35M [00:01&lt;00:00, 3.22MB/s]"
      }
     },
     "8bb2061633e64485862365e883bfcaf8": {
      "model_module": "@jupyter-widgets/base",
      "model_module_version": "1.2.0",
      "model_name": "LayoutModel",
      "state": {
       "_model_module": "@jupyter-widgets/base",
       "_model_module_version": "1.2.0",
       "_model_name": "LayoutModel",
       "_view_count": null,
       "_view_module": "@jupyter-widgets/base",
       "_view_module_version": "1.2.0",
       "_view_name": "LayoutView",
       "align_content": null,
       "align_items": null,
       "align_self": null,
       "border": null,
       "bottom": null,
       "display": null,
       "flex": null,
       "flex_flow": null,
       "grid_area": null,
       "grid_auto_columns": null,
       "grid_auto_flow": null,
       "grid_auto_rows": null,
       "grid_column": null,
       "grid_gap": null,
       "grid_row": null,
       "grid_template_areas": null,
       "grid_template_columns": null,
       "grid_template_rows": null,
       "height": null,
       "justify_content": null,
       "justify_items": null,
       "left": null,
       "margin": null,
       "max_height": null,
       "max_width": null,
       "min_height": null,
       "min_width": null,
       "object_fit": null,
       "object_position": null,
       "order": null,
       "overflow": null,
       "overflow_x": null,
       "overflow_y": null,
       "padding": null,
       "right": null,
       "top": null,
       "visibility": null,
       "width": null
      }
     },
     "8fb050b6960e41e2a564f1631ee28e4c": {
      "model_module": "@jupyter-widgets/controls",
      "model_module_version": "1.5.0",
      "model_name": "DescriptionStyleModel",
      "state": {
       "_model_module": "@jupyter-widgets/controls",
       "_model_module_version": "1.5.0",
       "_model_name": "DescriptionStyleModel",
       "_view_count": null,
       "_view_module": "@jupyter-widgets/base",
       "_view_module_version": "1.2.0",
       "_view_name": "StyleView",
       "description_width": ""
      }
     },
     "967fb6253b96478fb978e8d93b7ffd6a": {
      "model_module": "@jupyter-widgets/base",
      "model_module_version": "1.2.0",
      "model_name": "LayoutModel",
      "state": {
       "_model_module": "@jupyter-widgets/base",
       "_model_module_version": "1.2.0",
       "_model_name": "LayoutModel",
       "_view_count": null,
       "_view_module": "@jupyter-widgets/base",
       "_view_module_version": "1.2.0",
       "_view_name": "LayoutView",
       "align_content": null,
       "align_items": null,
       "align_self": null,
       "border": null,
       "bottom": null,
       "display": null,
       "flex": null,
       "flex_flow": null,
       "grid_area": null,
       "grid_auto_columns": null,
       "grid_auto_flow": null,
       "grid_auto_rows": null,
       "grid_column": null,
       "grid_gap": null,
       "grid_row": null,
       "grid_template_areas": null,
       "grid_template_columns": null,
       "grid_template_rows": null,
       "height": null,
       "justify_content": null,
       "justify_items": null,
       "left": null,
       "margin": null,
       "max_height": null,
       "max_width": null,
       "min_height": null,
       "min_width": null,
       "object_fit": null,
       "object_position": null,
       "order": null,
       "overflow": null,
       "overflow_x": null,
       "overflow_y": null,
       "padding": null,
       "right": null,
       "top": null,
       "visibility": null,
       "width": null
      }
     },
     "99d68164fca741e1a11aa7f87f3517a1": {
      "model_module": "@jupyter-widgets/controls",
      "model_module_version": "1.5.0",
      "model_name": "DescriptionStyleModel",
      "state": {
       "_model_module": "@jupyter-widgets/controls",
       "_model_module_version": "1.5.0",
       "_model_name": "DescriptionStyleModel",
       "_view_count": null,
       "_view_module": "@jupyter-widgets/base",
       "_view_module_version": "1.2.0",
       "_view_name": "StyleView",
       "description_width": ""
      }
     },
     "9cb7fbf6f86d474e80944056acef54a3": {
      "model_module": "@jupyter-widgets/controls",
      "model_module_version": "1.5.0",
      "model_name": "DescriptionStyleModel",
      "state": {
       "_model_module": "@jupyter-widgets/controls",
       "_model_module_version": "1.5.0",
       "_model_name": "DescriptionStyleModel",
       "_view_count": null,
       "_view_module": "@jupyter-widgets/base",
       "_view_module_version": "1.2.0",
       "_view_name": "StyleView",
       "description_width": ""
      }
     },
     "9ec64469f333469bb889612d6ae98052": {
      "model_module": "@jupyter-widgets/controls",
      "model_module_version": "1.5.0",
      "model_name": "HTMLModel",
      "state": {
       "_dom_classes": [],
       "_model_module": "@jupyter-widgets/controls",
       "_model_module_version": "1.5.0",
       "_model_name": "HTMLModel",
       "_view_count": null,
       "_view_module": "@jupyter-widgets/controls",
       "_view_module_version": "1.5.0",
       "_view_name": "HTMLView",
       "description": "",
       "description_tooltip": null,
       "layout": "IPY_MODEL_d07c947c6c164fffbf0bab70f7460684",
       "placeholder": "​",
       "style": "IPY_MODEL_f3647907a5534b089c1d8882f3e6176c",
       "value": " 52.0/52.0 [00:00&lt;00:00, 2.06kB/s]"
      }
     },
     "a1ab9082223040d88b9d95ebd6852c59": {
      "model_module": "@jupyter-widgets/base",
      "model_module_version": "1.2.0",
      "model_name": "LayoutModel",
      "state": {
       "_model_module": "@jupyter-widgets/base",
       "_model_module_version": "1.2.0",
       "_model_name": "LayoutModel",
       "_view_count": null,
       "_view_module": "@jupyter-widgets/base",
       "_view_module_version": "1.2.0",
       "_view_name": "LayoutView",
       "align_content": null,
       "align_items": null,
       "align_self": null,
       "border": null,
       "bottom": null,
       "display": null,
       "flex": null,
       "flex_flow": null,
       "grid_area": null,
       "grid_auto_columns": null,
       "grid_auto_flow": null,
       "grid_auto_rows": null,
       "grid_column": null,
       "grid_gap": null,
       "grid_row": null,
       "grid_template_areas": null,
       "grid_template_columns": null,
       "grid_template_rows": null,
       "height": null,
       "justify_content": null,
       "justify_items": null,
       "left": null,
       "margin": null,
       "max_height": null,
       "max_width": null,
       "min_height": null,
       "min_width": null,
       "object_fit": null,
       "object_position": null,
       "order": null,
       "overflow": null,
       "overflow_x": null,
       "overflow_y": null,
       "padding": null,
       "right": null,
       "top": null,
       "visibility": null,
       "width": null
      }
     },
     "a20d9d45d2484297bd4c28a511e6e027": {
      "model_module": "@jupyter-widgets/controls",
      "model_module_version": "1.5.0",
      "model_name": "FloatProgressModel",
      "state": {
       "_dom_classes": [],
       "_model_module": "@jupyter-widgets/controls",
       "_model_module_version": "1.5.0",
       "_model_name": "FloatProgressModel",
       "_view_count": null,
       "_view_module": "@jupyter-widgets/controls",
       "_view_module_version": "1.5.0",
       "_view_name": "ProgressView",
       "bar_style": "success",
       "description": "",
       "description_tooltip": null,
       "layout": "IPY_MODEL_c54310eefdbd41909e10e24110ff247f",
       "max": 371146213.0,
       "min": 0.0,
       "orientation": "horizontal",
       "style": "IPY_MODEL_f6e4d9f572a54579a37d3a89895529b3",
       "value": 371146213.0
      }
     },
     "a372d6bb0b304cf7a0c333923e5fc418": {
      "model_module": "@jupyter-widgets/controls",
      "model_module_version": "1.5.0",
      "model_name": "DescriptionStyleModel",
      "state": {
       "_model_module": "@jupyter-widgets/controls",
       "_model_module_version": "1.5.0",
       "_model_name": "DescriptionStyleModel",
       "_view_count": null,
       "_view_module": "@jupyter-widgets/base",
       "_view_module_version": "1.2.0",
       "_view_name": "StyleView",
       "description_width": ""
      }
     },
     "ad5a42196c694880a5dc399bf5b1484c": {
      "model_module": "@jupyter-widgets/controls",
      "model_module_version": "1.5.0",
      "model_name": "HBoxModel",
      "state": {
       "_dom_classes": [],
       "_model_module": "@jupyter-widgets/controls",
       "_model_module_version": "1.5.0",
       "_model_name": "HBoxModel",
       "_view_count": null,
       "_view_module": "@jupyter-widgets/controls",
       "_view_module_version": "1.5.0",
       "_view_name": "HBoxView",
       "box_style": "",
       "children": [
        "IPY_MODEL_8057522499f74b66a54e3def3329603b",
        "IPY_MODEL_ad75bdbc0cfb4c87a8955f3ad6637444",
        "IPY_MODEL_9ec64469f333469bb889612d6ae98052"
       ],
       "layout": "IPY_MODEL_e7f698f8f19a44f899f8a20a7a0e1b3d"
      }
     },
     "ad75bdbc0cfb4c87a8955f3ad6637444": {
      "model_module": "@jupyter-widgets/controls",
      "model_module_version": "1.5.0",
      "model_name": "FloatProgressModel",
      "state": {
       "_dom_classes": [],
       "_model_module": "@jupyter-widgets/controls",
       "_model_module_version": "1.5.0",
       "_model_name": "FloatProgressModel",
       "_view_count": null,
       "_view_module": "@jupyter-widgets/controls",
       "_view_module_version": "1.5.0",
       "_view_name": "ProgressView",
       "bar_style": "success",
       "description": "",
       "description_tooltip": null,
       "layout": "IPY_MODEL_d29692ace9664282a13f1b3f08fc88ce",
       "max": 52.0,
       "min": 0.0,
       "orientation": "horizontal",
       "style": "IPY_MODEL_4e21ccc586e24aac9948529e0afba65b",
       "value": 52.0
      }
     },
     "b308c149f47243bb9d918a491363ce37": {
      "model_module": "@jupyter-widgets/controls",
      "model_module_version": "1.5.0",
      "model_name": "ProgressStyleModel",
      "state": {
       "_model_module": "@jupyter-widgets/controls",
       "_model_module_version": "1.5.0",
       "_model_name": "ProgressStyleModel",
       "_view_count": null,
       "_view_module": "@jupyter-widgets/base",
       "_view_module_version": "1.2.0",
       "_view_name": "StyleView",
       "bar_color": null,
       "description_width": ""
      }
     },
     "ba6026dcf80b44f9931a24c015e728e2": {
      "model_module": "@jupyter-widgets/controls",
      "model_module_version": "1.5.0",
      "model_name": "ProgressStyleModel",
      "state": {
       "_model_module": "@jupyter-widgets/controls",
       "_model_module_version": "1.5.0",
       "_model_name": "ProgressStyleModel",
       "_view_count": null,
       "_view_module": "@jupyter-widgets/base",
       "_view_module_version": "1.2.0",
       "_view_name": "StyleView",
       "bar_color": null,
       "description_width": ""
      }
     },
     "bb53d3f4de984974b21ce9b4e617b519": {
      "model_module": "@jupyter-widgets/base",
      "model_module_version": "1.2.0",
      "model_name": "LayoutModel",
      "state": {
       "_model_module": "@jupyter-widgets/base",
       "_model_module_version": "1.2.0",
       "_model_name": "LayoutModel",
       "_view_count": null,
       "_view_module": "@jupyter-widgets/base",
       "_view_module_version": "1.2.0",
       "_view_name": "LayoutView",
       "align_content": null,
       "align_items": null,
       "align_self": null,
       "border": null,
       "bottom": null,
       "display": null,
       "flex": null,
       "flex_flow": null,
       "grid_area": null,
       "grid_auto_columns": null,
       "grid_auto_flow": null,
       "grid_auto_rows": null,
       "grid_column": null,
       "grid_gap": null,
       "grid_row": null,
       "grid_template_areas": null,
       "grid_template_columns": null,
       "grid_template_rows": null,
       "height": null,
       "justify_content": null,
       "justify_items": null,
       "left": null,
       "margin": null,
       "max_height": null,
       "max_width": null,
       "min_height": null,
       "min_width": null,
       "object_fit": null,
       "object_position": null,
       "order": null,
       "overflow": null,
       "overflow_x": null,
       "overflow_y": null,
       "padding": null,
       "right": null,
       "top": null,
       "visibility": null,
       "width": null
      }
     },
     "c062ec441c58435f94c2648135551c9a": {
      "model_module": "@jupyter-widgets/controls",
      "model_module_version": "1.5.0",
      "model_name": "DescriptionStyleModel",
      "state": {
       "_model_module": "@jupyter-widgets/controls",
       "_model_module_version": "1.5.0",
       "_model_name": "DescriptionStyleModel",
       "_view_count": null,
       "_view_module": "@jupyter-widgets/base",
       "_view_module_version": "1.2.0",
       "_view_name": "StyleView",
       "description_width": ""
      }
     },
     "c2de9e4767064284a7724ce8e23b4237": {
      "model_module": "@jupyter-widgets/controls",
      "model_module_version": "1.5.0",
      "model_name": "HTMLModel",
      "state": {
       "_dom_classes": [],
       "_model_module": "@jupyter-widgets/controls",
       "_model_module_version": "1.5.0",
       "_model_name": "HTMLModel",
       "_view_count": null,
       "_view_module": "@jupyter-widgets/controls",
       "_view_module_version": "1.5.0",
       "_view_name": "HTMLView",
       "description": "",
       "description_tooltip": null,
       "layout": "IPY_MODEL_834dee036b3049f29662cf54d9d07939",
       "placeholder": "​",
       "style": "IPY_MODEL_8fb050b6960e41e2a564f1631ee28e4c",
       "value": "Downloading config.json: 100%"
      }
     },
     "c54310eefdbd41909e10e24110ff247f": {
      "model_module": "@jupyter-widgets/base",
      "model_module_version": "1.2.0",
      "model_name": "LayoutModel",
      "state": {
       "_model_module": "@jupyter-widgets/base",
       "_model_module_version": "1.2.0",
       "_model_name": "LayoutModel",
       "_view_count": null,
       "_view_module": "@jupyter-widgets/base",
       "_view_module_version": "1.2.0",
       "_view_name": "LayoutView",
       "align_content": null,
       "align_items": null,
       "align_self": null,
       "border": null,
       "bottom": null,
       "display": null,
       "flex": null,
       "flex_flow": null,
       "grid_area": null,
       "grid_auto_columns": null,
       "grid_auto_flow": null,
       "grid_auto_rows": null,
       "grid_column": null,
       "grid_gap": null,
       "grid_row": null,
       "grid_template_areas": null,
       "grid_template_columns": null,
       "grid_template_rows": null,
       "height": null,
       "justify_content": null,
       "justify_items": null,
       "left": null,
       "margin": null,
       "max_height": null,
       "max_width": null,
       "min_height": null,
       "min_width": null,
       "object_fit": null,
       "object_position": null,
       "order": null,
       "overflow": null,
       "overflow_x": null,
       "overflow_y": null,
       "padding": null,
       "right": null,
       "top": null,
       "visibility": null,
       "width": null
      }
     },
     "c9ed5550d9394261a5728510099a3ab8": {
      "model_module": "@jupyter-widgets/controls",
      "model_module_version": "1.5.0",
      "model_name": "DescriptionStyleModel",
      "state": {
       "_model_module": "@jupyter-widgets/controls",
       "_model_module_version": "1.5.0",
       "_model_name": "DescriptionStyleModel",
       "_view_count": null,
       "_view_module": "@jupyter-widgets/base",
       "_view_module_version": "1.2.0",
       "_view_name": "StyleView",
       "description_width": ""
      }
     },
     "cd929f82a9274440866fdb8c8ccc2e23": {
      "model_module": "@jupyter-widgets/controls",
      "model_module_version": "1.5.0",
      "model_name": "HTMLModel",
      "state": {
       "_dom_classes": [],
       "_model_module": "@jupyter-widgets/controls",
       "_model_module_version": "1.5.0",
       "_model_name": "HTMLModel",
       "_view_count": null,
       "_view_module": "@jupyter-widgets/controls",
       "_view_module_version": "1.5.0",
       "_view_name": "HTMLView",
       "description": "",
       "description_tooltip": null,
       "layout": "IPY_MODEL_a1ab9082223040d88b9d95ebd6852c59",
       "placeholder": "​",
       "style": "IPY_MODEL_9cb7fbf6f86d474e80944056acef54a3",
       "value": " 354M/354M [00:24&lt;00:00, 16.1MB/s]"
      }
     },
     "cfbb7c58608e4c62a0e230d0d5af321d": {
      "model_module": "@jupyter-widgets/base",
      "model_module_version": "1.2.0",
      "model_name": "LayoutModel",
      "state": {
       "_model_module": "@jupyter-widgets/base",
       "_model_module_version": "1.2.0",
       "_model_name": "LayoutModel",
       "_view_count": null,
       "_view_module": "@jupyter-widgets/base",
       "_view_module_version": "1.2.0",
       "_view_name": "LayoutView",
       "align_content": null,
       "align_items": null,
       "align_self": null,
       "border": null,
       "bottom": null,
       "display": null,
       "flex": null,
       "flex_flow": null,
       "grid_area": null,
       "grid_auto_columns": null,
       "grid_auto_flow": null,
       "grid_auto_rows": null,
       "grid_column": null,
       "grid_gap": null,
       "grid_row": null,
       "grid_template_areas": null,
       "grid_template_columns": null,
       "grid_template_rows": null,
       "height": null,
       "justify_content": null,
       "justify_items": null,
       "left": null,
       "margin": null,
       "max_height": null,
       "max_width": null,
       "min_height": null,
       "min_width": null,
       "object_fit": null,
       "object_position": null,
       "order": null,
       "overflow": null,
       "overflow_x": null,
       "overflow_y": null,
       "padding": null,
       "right": null,
       "top": null,
       "visibility": null,
       "width": null
      }
     },
     "d07c947c6c164fffbf0bab70f7460684": {
      "model_module": "@jupyter-widgets/base",
      "model_module_version": "1.2.0",
      "model_name": "LayoutModel",
      "state": {
       "_model_module": "@jupyter-widgets/base",
       "_model_module_version": "1.2.0",
       "_model_name": "LayoutModel",
       "_view_count": null,
       "_view_module": "@jupyter-widgets/base",
       "_view_module_version": "1.2.0",
       "_view_name": "LayoutView",
       "align_content": null,
       "align_items": null,
       "align_self": null,
       "border": null,
       "bottom": null,
       "display": null,
       "flex": null,
       "flex_flow": null,
       "grid_area": null,
       "grid_auto_columns": null,
       "grid_auto_flow": null,
       "grid_auto_rows": null,
       "grid_column": null,
       "grid_gap": null,
       "grid_row": null,
       "grid_template_areas": null,
       "grid_template_columns": null,
       "grid_template_rows": null,
       "height": null,
       "justify_content": null,
       "justify_items": null,
       "left": null,
       "margin": null,
       "max_height": null,
       "max_width": null,
       "min_height": null,
       "min_width": null,
       "object_fit": null,
       "object_position": null,
       "order": null,
       "overflow": null,
       "overflow_x": null,
       "overflow_y": null,
       "padding": null,
       "right": null,
       "top": null,
       "visibility": null,
       "width": null
      }
     },
     "d29692ace9664282a13f1b3f08fc88ce": {
      "model_module": "@jupyter-widgets/base",
      "model_module_version": "1.2.0",
      "model_name": "LayoutModel",
      "state": {
       "_model_module": "@jupyter-widgets/base",
       "_model_module_version": "1.2.0",
       "_model_name": "LayoutModel",
       "_view_count": null,
       "_view_module": "@jupyter-widgets/base",
       "_view_module_version": "1.2.0",
       "_view_name": "LayoutView",
       "align_content": null,
       "align_items": null,
       "align_self": null,
       "border": null,
       "bottom": null,
       "display": null,
       "flex": null,
       "flex_flow": null,
       "grid_area": null,
       "grid_auto_columns": null,
       "grid_auto_flow": null,
       "grid_auto_rows": null,
       "grid_column": null,
       "grid_gap": null,
       "grid_row": null,
       "grid_template_areas": null,
       "grid_template_columns": null,
       "grid_template_rows": null,
       "height": null,
       "justify_content": null,
       "justify_items": null,
       "left": null,
       "margin": null,
       "max_height": null,
       "max_width": null,
       "min_height": null,
       "min_width": null,
       "object_fit": null,
       "object_position": null,
       "order": null,
       "overflow": null,
       "overflow_x": null,
       "overflow_y": null,
       "padding": null,
       "right": null,
       "top": null,
       "visibility": null,
       "width": null
      }
     },
     "d71fb3f2cef244baae64b5e83a49c66f": {
      "model_module": "@jupyter-widgets/base",
      "model_module_version": "1.2.0",
      "model_name": "LayoutModel",
      "state": {
       "_model_module": "@jupyter-widgets/base",
       "_model_module_version": "1.2.0",
       "_model_name": "LayoutModel",
       "_view_count": null,
       "_view_module": "@jupyter-widgets/base",
       "_view_module_version": "1.2.0",
       "_view_name": "LayoutView",
       "align_content": null,
       "align_items": null,
       "align_self": null,
       "border": null,
       "bottom": null,
       "display": null,
       "flex": null,
       "flex_flow": null,
       "grid_area": null,
       "grid_auto_columns": null,
       "grid_auto_flow": null,
       "grid_auto_rows": null,
       "grid_column": null,
       "grid_gap": null,
       "grid_row": null,
       "grid_template_areas": null,
       "grid_template_columns": null,
       "grid_template_rows": null,
       "height": null,
       "justify_content": null,
       "justify_items": null,
       "left": null,
       "margin": null,
       "max_height": null,
       "max_width": null,
       "min_height": null,
       "min_width": null,
       "object_fit": null,
       "object_position": null,
       "order": null,
       "overflow": null,
       "overflow_x": null,
       "overflow_y": null,
       "padding": null,
       "right": null,
       "top": null,
       "visibility": null,
       "width": null
      }
     },
     "dc916dc85bb84d51a445838cc39c03d6": {
      "model_module": "@jupyter-widgets/controls",
      "model_module_version": "1.5.0",
      "model_name": "FloatProgressModel",
      "state": {
       "_dom_classes": [],
       "_model_module": "@jupyter-widgets/controls",
       "_model_module_version": "1.5.0",
       "_model_name": "FloatProgressModel",
       "_view_count": null,
       "_view_module": "@jupyter-widgets/controls",
       "_view_module_version": "1.5.0",
       "_view_name": "ProgressView",
       "bar_style": "success",
       "description": "",
       "description_tooltip": null,
       "layout": "IPY_MODEL_d71fb3f2cef244baae64b5e83a49c66f",
       "max": 579.0,
       "min": 0.0,
       "orientation": "horizontal",
       "style": "IPY_MODEL_ba6026dcf80b44f9931a24c015e728e2",
       "value": 579.0
      }
     },
     "dd97796b83a846c29b629bd293126e9e": {
      "model_module": "@jupyter-widgets/controls",
      "model_module_version": "1.5.0",
      "model_name": "DescriptionStyleModel",
      "state": {
       "_model_module": "@jupyter-widgets/controls",
       "_model_module_version": "1.5.0",
       "_model_name": "DescriptionStyleModel",
       "_view_count": null,
       "_view_module": "@jupyter-widgets/base",
       "_view_module_version": "1.2.0",
       "_view_name": "StyleView",
       "description_width": ""
      }
     },
     "e5564fe30e3448fe92557f450b7d73ae": {
      "model_module": "@jupyter-widgets/controls",
      "model_module_version": "1.5.0",
      "model_name": "HBoxModel",
      "state": {
       "_dom_classes": [],
       "_model_module": "@jupyter-widgets/controls",
       "_model_module_version": "1.5.0",
       "_model_name": "HBoxModel",
       "_view_count": null,
       "_view_module": "@jupyter-widgets/controls",
       "_view_module_version": "1.5.0",
       "_view_name": "HBoxView",
       "box_style": "",
       "children": [
        "IPY_MODEL_c2de9e4767064284a7724ce8e23b4237",
        "IPY_MODEL_dc916dc85bb84d51a445838cc39c03d6",
        "IPY_MODEL_f34dcd9607ce4b0aa6e37f9e05e9a044"
       ],
       "layout": "IPY_MODEL_2086b6ba59604022adf37ca266b6736a"
      }
     },
     "e5fe3772c4ae465d930c1ffeafdc4a82": {
      "model_module": "@jupyter-widgets/base",
      "model_module_version": "1.2.0",
      "model_name": "LayoutModel",
      "state": {
       "_model_module": "@jupyter-widgets/base",
       "_model_module_version": "1.2.0",
       "_model_name": "LayoutModel",
       "_view_count": null,
       "_view_module": "@jupyter-widgets/base",
       "_view_module_version": "1.2.0",
       "_view_name": "LayoutView",
       "align_content": null,
       "align_items": null,
       "align_self": null,
       "border": null,
       "bottom": null,
       "display": null,
       "flex": null,
       "flex_flow": null,
       "grid_area": null,
       "grid_auto_columns": null,
       "grid_auto_flow": null,
       "grid_auto_rows": null,
       "grid_column": null,
       "grid_gap": null,
       "grid_row": null,
       "grid_template_areas": null,
       "grid_template_columns": null,
       "grid_template_rows": null,
       "height": null,
       "justify_content": null,
       "justify_items": null,
       "left": null,
       "margin": null,
       "max_height": null,
       "max_width": null,
       "min_height": null,
       "min_width": null,
       "object_fit": null,
       "object_position": null,
       "order": null,
       "overflow": null,
       "overflow_x": null,
       "overflow_y": null,
       "padding": null,
       "right": null,
       "top": null,
       "visibility": null,
       "width": null
      }
     },
     "e7f698f8f19a44f899f8a20a7a0e1b3d": {
      "model_module": "@jupyter-widgets/base",
      "model_module_version": "1.2.0",
      "model_name": "LayoutModel",
      "state": {
       "_model_module": "@jupyter-widgets/base",
       "_model_module_version": "1.2.0",
       "_model_name": "LayoutModel",
       "_view_count": null,
       "_view_module": "@jupyter-widgets/base",
       "_view_module_version": "1.2.0",
       "_view_name": "LayoutView",
       "align_content": null,
       "align_items": null,
       "align_self": null,
       "border": null,
       "bottom": null,
       "display": null,
       "flex": null,
       "flex_flow": null,
       "grid_area": null,
       "grid_auto_columns": null,
       "grid_auto_flow": null,
       "grid_auto_rows": null,
       "grid_column": null,
       "grid_gap": null,
       "grid_row": null,
       "grid_template_areas": null,
       "grid_template_columns": null,
       "grid_template_rows": null,
       "height": null,
       "justify_content": null,
       "justify_items": null,
       "left": null,
       "margin": null,
       "max_height": null,
       "max_width": null,
       "min_height": null,
       "min_width": null,
       "object_fit": null,
       "object_position": null,
       "order": null,
       "overflow": null,
       "overflow_x": null,
       "overflow_y": null,
       "padding": null,
       "right": null,
       "top": null,
       "visibility": null,
       "width": null
      }
     },
     "f34dcd9607ce4b0aa6e37f9e05e9a044": {
      "model_module": "@jupyter-widgets/controls",
      "model_module_version": "1.5.0",
      "model_name": "HTMLModel",
      "state": {
       "_dom_classes": [],
       "_model_module": "@jupyter-widgets/controls",
       "_model_module_version": "1.5.0",
       "_model_name": "HTMLModel",
       "_view_count": null,
       "_view_module": "@jupyter-widgets/controls",
       "_view_module_version": "1.5.0",
       "_view_name": "HTMLView",
       "description": "",
       "description_tooltip": null,
       "layout": "IPY_MODEL_165f59a864fc46d0b734a94ced47b546",
       "placeholder": "​",
       "style": "IPY_MODEL_99d68164fca741e1a11aa7f87f3517a1",
       "value": " 579/579 [00:00&lt;00:00, 24.0kB/s]"
      }
     },
     "f3647907a5534b089c1d8882f3e6176c": {
      "model_module": "@jupyter-widgets/controls",
      "model_module_version": "1.5.0",
      "model_name": "DescriptionStyleModel",
      "state": {
       "_model_module": "@jupyter-widgets/controls",
       "_model_module_version": "1.5.0",
       "_model_name": "DescriptionStyleModel",
       "_view_count": null,
       "_view_module": "@jupyter-widgets/base",
       "_view_module_version": "1.2.0",
       "_view_name": "StyleView",
       "description_width": ""
      }
     },
     "f6e4d9f572a54579a37d3a89895529b3": {
      "model_module": "@jupyter-widgets/controls",
      "model_module_version": "1.5.0",
      "model_name": "ProgressStyleModel",
      "state": {
       "_model_module": "@jupyter-widgets/controls",
       "_model_module_version": "1.5.0",
       "_model_name": "ProgressStyleModel",
       "_view_count": null,
       "_view_module": "@jupyter-widgets/base",
       "_view_module_version": "1.2.0",
       "_view_name": "StyleView",
       "bar_color": null,
       "description_width": ""
      }
     },
     "fa2ecf7df5be4f429e379cdd7171ffe2": {
      "model_module": "@jupyter-widgets/controls",
      "model_module_version": "1.5.0",
      "model_name": "HTMLModel",
      "state": {
       "_dom_classes": [],
       "_model_module": "@jupyter-widgets/controls",
       "_model_module_version": "1.5.0",
       "_model_name": "HTMLModel",
       "_view_count": null,
       "_view_module": "@jupyter-widgets/controls",
       "_view_module_version": "1.5.0",
       "_view_name": "HTMLView",
       "description": "",
       "description_tooltip": null,
       "layout": "IPY_MODEL_4cc11844d73a42f1a7399816ecf1989a",
       "placeholder": "​",
       "style": "IPY_MODEL_dd97796b83a846c29b629bd293126e9e",
       "value": "Downloading spm.model: 100%"
      }
     }
    },
    "version_major": 2,
    "version_minor": 0
   }
  }
 },
 "nbformat": 4,
 "nbformat_minor": 5
}
